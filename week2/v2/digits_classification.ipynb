{
 "cells": [
  {
   "cell_type": "markdown",
   "metadata": {
    "slideshow": {
     "slide_type": "slide"
    }
   },
   "source": [
    "# MNIST digits classification with TensorFlow"
   ]
  },
  {
   "cell_type": "markdown",
   "metadata": {},
   "source": [
    "<img src=\"images/mnist_sample.png\" style=\"width:30%\">"
   ]
  },
  {
   "cell_type": "code",
   "execution_count": 1,
   "metadata": {},
   "outputs": [
    {
     "name": "stdout",
     "output_type": "stream",
     "text": [
      "We're using TF 1.2.1\n"
     ]
    }
   ],
   "source": [
    "import numpy as np\n",
    "from sklearn.metrics import accuracy_score\n",
    "from matplotlib import pyplot as plt\n",
    "%matplotlib inline\n",
    "import tensorflow as tf\n",
    "print(\"We're using TF\", tf.__version__)"
   ]
  },
  {
   "cell_type": "code",
   "execution_count": 2,
   "metadata": {},
   "outputs": [
    {
     "name": "stderr",
     "output_type": "stream",
     "text": [
      "Using TensorFlow backend.\n"
     ]
    }
   ],
   "source": [
    "import sys\n",
    "sys.path.append(\"../..\")\n",
    "import grading\n",
    "\n",
    "import matplotlib_utils\n",
    "from importlib import reload\n",
    "reload(matplotlib_utils)\n",
    "\n",
    "import grading_utils\n",
    "reload(grading_utils)\n",
    "\n",
    "import keras_utils\n",
    "from keras_utils import reset_tf_session"
   ]
  },
  {
   "cell_type": "markdown",
   "metadata": {},
   "source": [
    "# Fill in your Coursera token and email\n",
    "To successfully submit your answers to our grader, please fill in your Coursera submission token and email"
   ]
  },
  {
   "cell_type": "code",
   "execution_count": 3,
   "metadata": {
    "collapsed": true
   },
   "outputs": [],
   "source": [
    "grader = grading.Grader(assignment_key=\"XtD7ho3TEeiHQBLWejjYAA\", \n",
    "                        all_parts=[\"9XaAS\", \"vmogZ\", \"RMv95\", \"i8bgs\", \"rE763\"])"
   ]
  },
  {
   "cell_type": "code",
   "execution_count": 32,
   "metadata": {
    "collapsed": true
   },
   "outputs": [],
   "source": [
    "# token expires every 30 min\n",
    "COURSERA_TOKEN = \"yxWiJDWVKIjRbGUx\"\n",
    "COURSERA_EMAIL = \"alegasalv@gmail.com\""
   ]
  },
  {
   "cell_type": "markdown",
   "metadata": {},
   "source": [
    "# Look at the data\n",
    "\n",
    "In this task we have 50000 28x28 images of digits from 0 to 9.\n",
    "We will train a classifier on this data."
   ]
  },
  {
   "cell_type": "code",
   "execution_count": 5,
   "metadata": {
    "collapsed": true
   },
   "outputs": [],
   "source": [
    "import preprocessed_mnist\n",
    "X_train, y_train, X_val, y_val, X_test, y_test = preprocessed_mnist.load_dataset_from_file()"
   ]
  },
  {
   "cell_type": "code",
   "execution_count": 6,
   "metadata": {},
   "outputs": [
    {
     "name": "stdout",
     "output_type": "stream",
     "text": [
      "X_train [shape (50000, 28, 28)] sample patch:\n",
      " [[ 0.          0.29803922  0.96470588  0.98823529  0.43921569]\n",
      " [ 0.          0.33333333  0.98823529  0.90196078  0.09803922]\n",
      " [ 0.          0.33333333  0.98823529  0.8745098   0.        ]\n",
      " [ 0.          0.33333333  0.98823529  0.56862745  0.        ]\n",
      " [ 0.          0.3372549   0.99215686  0.88235294  0.        ]]\n",
      "A closeup of a sample patch:\n"
     ]
    },
    {
     "data": {
      "image/png": "[encoded data removed]",
      "text/plain": [
       "<matplotlib.figure.Figure at 0x7fc31d6d7978>"
      ]
     },
     "metadata": {},
     "output_type": "display_data"
    },
    {
     "name": "stdout",
     "output_type": "stream",
     "text": [
      "And the whole sample:\n"
     ]
    },
    {
     "data": {
      "image/png": "[encoded data removed]",
      "text/plain": [
       "<matplotlib.figure.Figure at 0x7fc31d685320>"
      ]
     },
     "metadata": {},
     "output_type": "display_data"
    },
    {
     "name": "stdout",
     "output_type": "stream",
     "text": [
      "y_train [shape (50000,)] 10 samples:\n",
      " [5 0 4 1 9 2 1 3 1 4]\n"
     ]
    }
   ],
   "source": [
    "# X contains rgb values divided by 255\n",
    "print(\"X_train [shape %s] sample patch:\\n\" % (str(X_train.shape)), X_train[1, 15:20, 5:10])\n",
    "print(\"A closeup of a sample patch:\")\n",
    "plt.imshow(X_train[1, 15:20, 5:10], cmap=\"Greys\")\n",
    "plt.show()\n",
    "print(\"And the whole sample:\")\n",
    "plt.imshow(X_train[1], cmap=\"Greys\")\n",
    "plt.show()\n",
    "print(\"y_train [shape %s] 10 samples:\\n\" % (str(y_train.shape)), y_train[:10])"
   ]
  },
  {
   "cell_type": "markdown",
   "metadata": {},
   "source": [
    "# Linear model\n",
    "\n",
    "Your task is to train a linear classifier $\\vec{x} \\rightarrow y$ with SGD using TensorFlow.\n",
    "\n",
    "You will need to calculate a logit (a linear transformation) $z_k$ for each class: \n",
    "$$z_k = \\vec{x} \\cdot \\vec{w_k} + b_k \\quad k = 0..9$$\n",
    "\n",
    "And transform logits $z_k$ to valid probabilities $p_k$ with softmax: \n",
    "$$p_k = \\frac{e^{z_k}}{\\sum_{i=0}^{9}{e^{z_i}}} \\quad k = 0..9$$\n",
    "\n",
    "We will use a cross-entropy loss to train our multi-class classifier:\n",
    "$$\\text{cross-entropy}(y, p) = -\\sum_{k=0}^{9}{\\log(p_k)[y = k]}$$ \n",
    "\n",
    "where \n",
    "$$\n",
    "[x]=\\begin{cases}\n",
    "       1, \\quad \\text{if $x$ is true} \\\\\n",
    "       0, \\quad \\text{otherwise}\n",
    "    \\end{cases}\n",
    "$$\n",
    "\n",
    "Cross-entropy minimization pushes $p_k$ close to 1 when $y = k$, which is what we want.\n",
    "\n",
    "Here's the plan:\n",
    "* Flatten the images (28x28 -> 784) with `X_train.reshape((X_train.shape[0], -1))` to simplify our linear model implementation\n",
    "* Use a matrix placeholder for flattened `X_train`\n",
    "* Convert `y_train` to one-hot encoded vectors that are needed for cross-entropy\n",
    "* Use a shared variable `W` for all weights (a column $\\vec{w_k}$ per class) and `b` for all biases.\n",
    "* Aim for ~0.93 validation accuracy"
   ]
  },
  {
   "cell_type": "code",
   "execution_count": 7,
   "metadata": {},
   "outputs": [
    {
     "name": "stdout",
     "output_type": "stream",
     "text": [
      "(50000, 784)\n",
      "(10000, 784)\n"
     ]
    }
   ],
   "source": [
    "X_train_flat = X_train.reshape((X_train.shape[0], -1))\n",
    "print(X_train_flat.shape)\n",
    "\n",
    "X_val_flat = X_val.reshape((X_val.shape[0], -1))\n",
    "print(X_val_flat.shape)"
   ]
  },
  {
   "cell_type": "code",
   "execution_count": 8,
   "metadata": {},
   "outputs": [
    {
     "name": "stdout",
     "output_type": "stream",
     "text": [
      "(50000, 10)\n",
      "[[ 0.  0.  0.  0.  0.  1.  0.  0.  0.  0.]\n",
      " [ 1.  0.  0.  0.  0.  0.  0.  0.  0.  0.]\n",
      " [ 0.  0.  0.  0.  1.  0.  0.  0.  0.  0.]] [5 0 4]\n"
     ]
    }
   ],
   "source": [
    "import keras\n",
    "\n",
    "y_train_oh = keras.utils.to_categorical(y_train, 10)\n",
    "y_val_oh = keras.utils.to_categorical(y_val, 10)\n",
    "\n",
    "print(y_train_oh.shape)\n",
    "print(y_train_oh[:3], y_train[:3])"
   ]
  },
  {
   "cell_type": "code",
   "execution_count": 9,
   "metadata": {
    "collapsed": true
   },
   "outputs": [],
   "source": [
    "# run this again if you remake your graph\n",
    "s = reset_tf_session()"
   ]
  },
  {
   "cell_type": "code",
   "execution_count": 10,
   "metadata": {
    "collapsed": true
   },
   "outputs": [],
   "source": [
    "# Model parameters: W and b\n",
    "W = tf.get_variable(name=\"Weights\", shape=(784, 10), dtype=tf.float32)\n",
    "b = tf.get_variable(name=\"Bias\", shape=(10,), dtype=tf.float32)\n",
    "\n",
    "# tf.get_variable(\n",
    "#     name, shape=None, dtype=None, initializer=None, regularizer=None,\n",
    "#     trainable=None, collections=None, caching_device=None, partitioner=None,\n",
    "#     validate_shape=True, use_resource=None, custom_getter=None, constraint=None,\n",
    "#     synchronization=tf.VariableSynchronization.AUTO,\n",
    "#     aggregation=tf.VariableAggregation.NONE\n",
    "# )"
   ]
  },
  {
   "cell_type": "code",
   "execution_count": 11,
   "metadata": {
    "collapsed": true
   },
   "outputs": [],
   "source": [
    "# Placeholders for the input data\n",
    "# input_X = ### YOUR CODE HERE ### tf.placeholder(...) for flat X with shape[0] = None for any batch size\n",
    "# input_y = ### YOUR CODE HERE ### tf.placeholder(...) for one-hot encoded true labels\n",
    "\n",
    "# Placeholders for the input data\n",
    "input_X = tf.placeholder(dtype=tf.float32, shape=(None, 784), name=\"Input\")\n",
    "input_y = tf.placeholder(dtype=tf.float32, shape=(None, 10), name=\"Input\")"
   ]
  },
  {
   "cell_type": "code",
   "execution_count": 12,
   "metadata": {
    "collapsed": true
   },
   "outputs": [],
   "source": [
    "# Compute predictions\n",
    "logits = tf.matmul(input_X, W) + b ### YOUR CODE HERE ### logits for input_X, resulting shape should be [input_X.shape[0], 10]\n",
    "probas = tf.nn.softmax(logits) ### YOUR CODE HERE ### apply tf.nn.softmax to logits\n",
    "classes = tf.arg_max(probas, dimension=1) ### YOUR CODE HERE ### apply tf.argmax to find a class index with highest probability\n",
    "\n",
    "# Loss should be a scalar number: average loss over all the objects with tf.reduce_mean().\n",
    "# Use tf.nn.softmax_cross_entropy_with_logits on top of one-hot encoded input_y and logits.\n",
    "# It is identical to calculating cross-entropy on top of probas, but is more numerically friendly (read the docs).\n",
    "loss = tf.reduce_mean(tf.nn.softmax_cross_entropy_with_logits(labels=input_y, logits=logits)) ### YOUR CODE HERE ### cross-entropy loss\n",
    "\n",
    "# Use a default tf.train.AdamOptimizer to get an SGD step\n",
    "step = tf.train.AdamOptimizer().minimize(loss) ### YOUR CODE HERE ### optimizer step that minimizes the loss"
   ]
  },
  {
   "cell_type": "code",
   "execution_count": 31,
   "metadata": {
    "scrolled": false
   },
   "outputs": [
    {
     "data": {
      "text/html": [
       "<img src=\"data:image/jpeg;base64,/9j/4AAQSkZJRgABAQAAAQABAAD/2wBDAAIBAQEBAQIBAQECAgICAgQDAgICAgUEBAMEBgUGBgYFBgYGBwkIBgcJBwYGCAsICQoKCgoKBggLDAsKDAkKCgr/2wBDAQICAgICAgUDAwUKBwYHCgoKCgoKCgoKCgoKCgoKCgoKCgoKCgoKCgoKCgoKCgoKCgoKCgoKCgoKCgoKCgoKCgr/wAARCAEgA2ADASIAAhEBAxEB/8QAHwAAAQUBAQEBAQEAAAAAAAAAAAECAwQFBgcICQoL/8QAtRAAAgEDAwIEAwUFBAQAAAF9AQIDAAQRBRIhMUEGE1FhByJxFDKBkaEII0KxwRVS0fAkM2JyggkKFhcYGRolJicoKSo0NTY3ODk6Q0RFRkdISUpTVFVWV1hZWmNkZWZnaGlqc3R1dnd4eXqDhIWGh4iJipKTlJWWl5iZmqKjpKWmp6ipqrKztLW2t7i5usLDxMXGx8jJytLT1NXW19jZ2uHi4%2BTl5ufo6erx8vP09fb3%2BPn6/8QAHwEAAwEBAQEBAQEBAQAAAAAAAAECAwQFBgcICQoL/8QAtREAAgECBAQDBAcFBAQAAQJ3AAECAxEEBSExBhJBUQdhcRMiMoEIFEKRobHBCSMzUvAVYnLRChYkNOEl8RcYGRomJygpKjU2Nzg5OkNERUZHSElKU1RVVldYWVpjZGVmZ2hpanN0dXZ3eHl6goOEhYaHiImKkpOUlZaXmJmaoqOkpaanqKmqsrO0tba3uLm6wsPExcbHyMnK0tPU1dbX2Nna4uPk5ebn6Onq8vP09fb3%2BPn6/9oADAMBAAIRAxEAPwD9/KKKKACiiigAooooAKKKKACiiigAooooAKKKKACiiigAooooAKKKKACiiigAooooAKKKKACiiigAooooAKKKKACiiigAooooAKKKKACiiigAooooAKKKKACiiigAooooAKKKKACiiigAooooAKKKKACiiigAooooAKKKKACiiigAooooAKKKKACiiigAooooAKKKKACiiigAooooAKKKKACiiigAooooAKKKKACiiigAooooAKKKKACiiigAooooAKKKKACiiigAooooAKKKKACiiigAooooAKKKKACiiigAooooAKKKKACiiigAooooAKKKKACiiigAooooAKKKKACiiigAooooAKKKKACvPfjt%2B1J8FP2b5NGsfil4g1Maj4ilnTQNB8OeF9R1zVNR8lVed4bHTbee5kjiVkMkixlI96biu5c%2BhV4N%2B0P8D/j5/wANJ%2BDv2tv2bLLwfrWueH/B2seFNX8KeOdcutLtLywv7mwuxcQXtraXj288U2noCpt3WVJSCUKK1ABpf/BTL9izWLvxPb2nxXv0h8FWsk/jLUrvwXrEFjoIS0iu9l5dy2iwWsrQzRskMjrJIWKorMrKL2n/APBQ/wDZK1HwBrXxFTx/q9vB4f1ay0vVdE1DwNrNrrkV5ebfscC6PNaLqEr3AYGER27eaAxTcFYjy2b9gH4y%2BMf2a/jn8NfGHinwppHin4o/FS38daHc6U1xeWFpeW0OiywQ3IkihkkiN3pRRwoyYHGDuJVaPi79i/8AaV%2BLmr/Ef45fG34S/CjWvFnjWx8KaPp/gKy%2BI2s2Wm6fY6Hcaldw3qa7b6al5DqDXOqTOksVoPJSKNFZiWcgHsviH9vv9mzwv4a8OeI9XvvG3meK0v5NE8P2vwm8SXGuSRWUscV3NJpMWntf28MLzQq8s0CIpmiy37xM%2Bmaz8RPBHhv4e3XxX8T%2BJbbSvDljo76rf6vqrfZYbSySIzPPMZdvlKsYLNvxtAOcYNfGHin9hH9s/WPgX4X8Nay3hfxV470a58RHRfGV/wDHbxNpGr%2BCLW%2BuUktLO11q1sJLzXIYkjhEy3qw/aTbReYCFGPUfjR/wTotfj1%2Bzb4n%2BHHxD%2BOfjW78d%2BMPhfH4Z17xS3jbWho818tpDE2oJoS3y2FuzzQLK3kRRSEPIBIrSM5AOkg/4KUfsZf8K58V/FbWPite6Jo3giysr7xQ/ifwdq%2Bk3NlZXkxhtb37LeWsVxJaSyK6pcxxtC3luQ%2BEYjj/AI3f8FZP2d/hn8ENU%2BMfgPRfFXiqbQfiD4X8L674Y/4QXXbHU7A6zqVrax3T2cmnNdeV5Fw88DeT5d48aW8MhknjB8r1T/gmJ8ZPHfwq8faR4i8DeG9G8Y%2BI9D0fR7DxDqv7RfjPxut3aWusW%2BoTRyf27AfsEZ8likUSzHe%2BGkxknv8A9qH9gz40/GD4g/F/4g%2BBfEPheOTxfB8LbzwlZ6tfXMSvf%2BE/EdzrUsN40dvJ5ENwGt4VljEzrl2MfyKrgHqFh/wUE/Zb1H4m2XwZh8T%2BJo/Fd5oun6xLoF38N9egudO0%2B9adILu/SSyU6dDut5VeS68pYiFEhQum6j4a/wCCmH7FPi3wZ4s%2BIWkfGC4TR/Bfgi68Zaxe6h4S1W0Fx4et0Z5tWsVntUbVLNVQ4nsxPGxZArEugbB0P9kP4ofEP4mfG74g/G9fD2gxfGj4O%2BHfCF1Y%2BE9duNRl0u4tE11Ltlnns7XzYwNViMT7FZikm6OPA3fN37Y37Kn7UOj/ALDHxS%2BJv7TF34AtIfhD%2BxT8QfBHhePwFqF5cNrzXukWxn1G6W5toBYqE0i3CWcbXAVppCZ22oKAPrPw9/wUl/Yy8TaHrHiPT/i1dQWehppU1/JqnhLVbJmtNSu1s7HUIUuLVGubCWdgovoQ9qoDO0qorMPT9E%2BLvw88R/FLX/gvofiH7T4k8LaXp%2Boa/YR2k22zgvmuBa7pinlF3%2ByzHy1cyKoRmVVkjLfJOofsz%2BIPFegeKfjb/wAFIvF/wz8J%2BBbf9nu5%2BHUlx4f8QTLay6beyQyXmq3k17BbpYOTBbCG2QzCAmT/AEiQsuOw/wCCPngP4u2f7I9r8f8A9pDUDf8AxJ%2BL15H4n8V6g9nJbtJCLSCy01fKl%2BeH/iX2lpI0TYKSzTZAYtkA%2BqqKKKACiiigAooooAKKKKACiiigAooooAKKKKACiiigAoorhf2if2kfhD%2Byn8NZ/i98cdb1LTfD1rLsu77TfDd/qjW4EbyNJJFYwTSJEqRuzysojQKSzKKAO6ormPi98Y/h58CfBUnxA%2BJusz2enJd29pEtlplzfXV1czyrDBb29raxyT3M0kjqqxRI7sTwDXn/AIo/4KC/skeDfA2gfEjXvihcLpHiSzv7yxmtfC%2Bp3Etta2Mqw39zeww2zS6dBaSusVzLdrCltIwSZo24oA9nopEdJEEkbhlYZVgcgj1paACiiigAooooAKKKKACiiigAooooAKKKKACiiigArxHSP%2BCjH7HupXevWep/FK88PN4c8OXPiDUJPGvhHVdBjm0m3dI57%2B1k1K1gW%2Bt0eSJWltjKgMsYzl1z7TexXM1nLDZ3QgmeJlimMe/y2I4baeuDzjvX5iav/wAEcv25fi/q3hfXPjd8cdDfW/DXg/ULPUPFGofFbxN4nHiHW/tmlX1rqJ0u%2BihstJtpLnTF8%2BwsgFEcm1ZZAqBQD7Zf9v8A/Zhtfho3xY1jxB4q0rS21yDRrGz1z4Za/Yapqd/MhkhgstNuLFL2/aRAzr9nhkDKjsCQjEdF4D/as%2BB/xH1%2By8J%2BHPEOqQ6vf%2BFJ/EkOka14V1LTLtNNhu/sksssN5bxSQOs/wAhhkVZe%2BzbzXk3xO%2BDn7bvxib4e/G3XPBvwq0P4h/Cjx1NrHh/wza%2BONSv9F1yzuNJu9MuY7i%2BfSoZrGYpeySRulrcCMxBT5gkbFX4k/Ab9uDX/jL4d/aa8D6N8K7TxZffDDVfBfjHQtS8V6lJYaQtxfw3Vrf2VwmnCTUDEI3WS3litBKXGJYscgHcaT/wUb/ZA8R694F8LeFfiNqus6n8SfBuleLfBunaJ4H1m9nvND1F9lrqMiQWjNa2%2B7HmSTiNbcMpm8oMCdj4a/tufs3fFf4jXPwn8M%2BL9Ws9ft9LudThsvE/gzVtEW/sbeRI57uyl1G1gjv4I3liDy2zSIvmISQGUnyj9hT9hL4sfsw6/wDDjWfHniDw1dnwd%2Byl4R%2BGN%2B%2BkXM8rNq2lvM1zNF5kEe61bemxmKu235o0wK8a%2BGn/AASr/bG8T/FHwv4m/am%2BMNnqkWn%2BAPFfhfxp4mg%2BL/iTWrzxFLq9ilt/adrpl9DHp%2BhHKljaWilFyoEziNVoA%2BpfCf8AwUX/AGR/Guix%2BKtB8d65/Ydxqul6fp/iW9%2BH%2Bt2ulajLqV7HZWUlpfT2aW15BLczRRi4gkeEGVCzhWBPpfhb4u/Dzxr8QPFPwu8L%2BIfteueC5LOPxPaJaTBbGS6g%2B0QRmVkEbu0JWQojMyLJGWCiRN3zD448CfEXwr/wT28afAj/AIKGeJ/hV4I8BaD8NItAtviZ4d8W3YZp0jS2tdSe0urOBNNmWYW8kMEdxdMZyiI5O0N2v/BK/wCH3xY8N/siaV8Vf2irBLf4nfFi%2Bl8dfESFbdovs9/frGYbTY3zJ9lsY7Kz2nJAtcGgD6NooooAKKKKACiiigAooooAKKKKACiiigAooooAKKKKACiiigAooooAKKKKACiiigAooooAKKKKACiiigAooooAKKKKACiiigAorxf9jn4u/HD4lXXxS8HfH698KXes/D/4mN4etr7wfotzYWtxato2lakhaK5urlzIrag8ZcOFcRqwRMkV5X8Rv2kf26/hz8SPjP4M8O3/AMPviAfhz8Br/wAX6Xpvh/4aanaXh1%2Bdro6LpjY1e5%2B2eYun3ZljiSKU77cqU80AgH15Xi/x68f/ALRf/DRfgX4EfAXxn4K8Ppr/AIK8S69q%2Bp%2BL/Bd3rRJ0670O3hhhjt9SsfLDf2pKzMzPny0AC8k3P2O/jXrHxp8CatdeLfijo3iPXtH1s2erW2mfDXVfCM%2BkMbeGVLa603Vrq4uo5SsnmiRiiyRyxlUwN78Lrnx1%2BFHiz/gqp8PfhZ4N%2BJPh7WNa0X4N%2BPovEek6VrUFxd6ROdV8INFHcxRuXty6rMQJApPltjODSbS3LhTnUdoro39yu/wOw/4Qf/goX/0dB8Gf/DD6t/8ANRR/wg//AAUL/wCjoPgz/wCGH1b/AOaivZqKZB4z/wAIP/wUL/6Og%2BDP/hh9W/8Amoo/4Qf/AIKF/wDR0HwZ/wDDD6t/81FezUUAeM/8IP8A8FC/%2BjoPgz/4YfVv/moo/wCEH/4KF/8AR0HwZ/8ADD6t/wDNRXs1FAHjP/CD/wDBQv8A6Og%2BDP8A4YfVv/moo/4Qf/goX/0dB8Gf/DD6t/8ANRXs1FAHjP8Awg//AAUL/wCjoPgz/wCGH1b/AOaij/hB/wDgoX/0dB8Gf/DD6t/81FezUUAeM/8ACD/8FC/%2BjoPgz/4YfVv/AJqKP%2BEH/wCChf8A0dB8Gf8Aww%2Brf/NRXs1FAHjP/CD/APBQv/o6D4M/%2BGH1b/5qKP8AhB/%2BChf/AEdB8Gf/AAw%2Brf8AzUV7NRQB4z/wg/8AwUL/AOjoPgz/AOGH1b/5qKP%2BEH/4KF/9HQfBn/ww%2Brf/ADUVr%2BM/iv8As0fCi2h1L9oP4meBvDdxq%2Bp6gunzeM9as7NrxYLgowiNy67xGrRAhc7dy5xuGcD/AIa//wCCcH/R0XwR/wDC20f/AOO1zzxeEpS5Z1Ip9nKKf3OSf4HsYXh3iHHUFXw2CrVIPaUKNacXZ2dpRpSi7PR2k7PR66Fj/hB/%2BChf/R0HwZ/8MPq3/wA1FH/CD/8ABQv/AKOg%2BDP/AIYfVv8A5qKr/wDDX/8AwTg/6Oi%2BCP8A4W2j/wDx2vQ/A0vwP%2BKHha18c/DSTwp4i0S%2B3/YtY0Jra7tbjY7Rvsli3I%2B10ZDgnDKQeQadLE4atLlp1IyflKL/ACbM8bkeeZZSVXGYSrSi3ZOdKrBN72vOnBXsnpe%2Bj00OE/4Qf/goX/0dB8Gf/DD6t/8ANRR/wg//AAUL/wCjoPgz/wCGH1b/AOaiuKH7fP7HujeJfiR4f%2BIngXWfDsfw4%2BINp4QutRuvhjqk1tqd/dRaebdLWWGyZJpJZtQihSGMvI4Cyqpiljdu90j49/sxav8AEPQ/hbL4U1XS9Y8SW8Umhp4i%2BFmraXbXkj2RvhardXllFB9rFsskj2hkE8fkzK8atFIq7nllf/hB/wDgoX/0dB8Gf/DD6t/81FH/AAg//BQv/o6D4M/%2BGH1b/wCaiuO8K/t9fsNarpnhNdf1PTIdS8UeEvDviAjR/Beq3unWVnrcjw6dPNfHToktYJp4pY0lu1tjlRvSMsFr2LXNb%2BBWgeDPEXj64g8PXGmeFIbuTxBPY28E5sjaxmSeNwgO2RFGShwwyOOaAOO/4Qf/AIKF/wDR0HwZ/wDDD6t/81FH/CD/APBQv/o6D4M/%2BGH1b/5qKwP2Vvj03xz8UXXgX4s/sx6H4H1qTwVo/i/RLO01ePVVudI1FrlI1mf7JB5F5C9syzwKJY182Ixzygtt5SH9tXRF8XXU%2Bo/svaHD4Jv9b8XaB4J8TJrSPd6trHh1b37bBcWX2MLaQyHTNS8mZZ5y62m5o4/MQEA9K/4Qf/goX/0dB8Gf/DD6t/8ANRR/wg//AAUL/wCjoPgz/wCGH1b/AOaivJfhV%2B3NpHxO/ZV0n9obR/gp8I9b1bxXr2iaJ4R8N%2BA/ieus27ajqLQgW%2Bo3v9lQ/YHgEpkmVYp2WOFyqu22NtHWf2u9Y0z4W%2BG/iRF%2ByN4Vd1%2BMth8OviXp0vitUPh68uvEdnoSXFk404/2nGZL2K5QOtoWgxu8uQ%2BWAD0n/hB/%2BChf/R0HwZ/8MPq3/wA1FH/CD/8ABQv/AKOg%2BDP/AIYfVv8A5qK4%2Bf8Aag8Nzft2X/7GOm/DX4TWx0zTdNvZbjxB8QUstc1GO6iuJHOn6QNOk%2B1iIQfM32iMfNzjHMH7Kf7Wngn9pDxn8RdO1bwL8H9D0j4feJ/Euj6hFYfEePUNdtP7J1q70wXWo6adOhXToZ0s5LlWNxJhHjHzAl1AO3/4Qf8A4KF/9HQfBn/ww%2Brf/NRR/wAIP/wUL/6Og%2BDP/hh9W/8AmorzL4a/toaf8XPg78UPi7oH7PHgHwtafDrx5FpEVz8T/Gq6FYXejTaNper2%2Br3NyNOnbTzJb6rB/ozxOyEYeRGJVeC%2BKH/BVb4efDz4PeBfiuv7NPg%2BL/hMvCOra7a2niTxjHpsesmxu0tl0/QJvsEv9t3t5vE1nDtt/tEMkMmU8zCgH0V/wg//AAUL/wCjoPgz/wCGH1b/AOaij/hB/wDgoX/0dB8Gf/DD6t/81Fc94w/ad%2BH2h/th%2BB/2UPDvwHstUTxGbmHxN4lZoYY/D14NMuNRtbIxCJ/tE8kFrI8iB4zAkts53idBXnf7LX7ey/tc3viLw58KP2XfAN3rum%2BGYNXtdJh8fJK2kTS3jW39leItum7tD1JAsjtaql2w8idQSYxvAPZf%2BEH/AOChf/R0HwZ/8MPq3/zUUf8ACD/8FC/%2BjoPgz/4YfVv/AJqK4bTv2jvGWu/BXxn8R9M/Zm%2BGFnqvwz8UappPxBt9d%2BIE0Gj2sVjapdTXVnqEOizSXSLHKisr20BSRJkb5osNzdl%2B3dpV7d/DDwHqnwA%2BGHhTx1438BaL4p8ReF/iD8SoNITR01R5Y7XTrSY6dJJql%2Bz214vkrDCo%2BytukXem4A9d/wCEH/4KF/8AR0HwZ/8ADD6t/wDNRR/wg/8AwUL/AOjoPgz/AOGH1b/5qKr%2BGfiVeah%2B1/4g/Zk8U/s7eGdO0uy8Gw%2BIfDnie11lbmfUoWufs0iTWZs0W1KyZ2kTzbgMkJ0rx68/4KE%2BH/C%2Bg/Fo%2BMf2fvhtf6r8J4dI/tyfwF8QV1nRNPnvtRksJbbVNQbTLdtLlsjGbq8VoJTBaZmIbGygD2n/AIQf/goX/wBHQfBn/wAMPq3/AM1FUPA/jj9qzwd%2B1Z4c%2BCPxu%2BI/w98TaN4m%2BHviHXIZvCvw8vtFurS602%2B0S3RWe41e%2BSWN01SUlQiMGiQhsZBr/swfHLwr%2B1F%2Bz3rXxh0j4e%2BGdMk03VNT0%2By1fwhrSatpOpNaEgXum6itvbm6ty2U8zykxJFKmCE3Nr%2BOP%2BUhfwv/AOyM%2BPP/AE7eEKAPZqKKKACvCv8Agpb4Z%2BKnxB/Ya%2BJfwn%2BC3wd1nxv4k8ZeENR0HS9I0XUNNtWilurWWNZ5ZNRu7aJYVYqG2u0nzDajc491ooA%2Bev2iLT40fF/wd4D%2BJvhb9m/xRb6v8PviBpXiibwRq%2BraKl7qsBtrq1ubWGSLUJLUXECXbSgSzxxPJCqrLg7x4DP%2Byx%2B1x4G8N69440H9niXxDq/xS8IfETS77wrH4j0yI%2BErrXvEE2qaebuSa5WKW3EVyy3jWjXDrLEDDHcK24foHRQByOj/AAz1jRvgjpvwj0j4j6rpN7p3h610yLxRpMFq15E0MSR%2BfGl3DPCWOzOJI5F%2BY8HrXhn7Od5/wUD%2BJ3w/1DW7L9qT4byWumeO/FOgWU/in4M3V5qU9vpWv6hpkUt1NY63Y20kzx2iu5htYE3McIBX1DXjP7B//JENc/7LN8R//U11ugA/4Qf/AIKF/wDR0HwZ/wDDD6t/81FH/CD/APBQv/o6D4M/%2BGH1b/5qK9mooA8Z/wCEH/4KF/8AR0HwZ/8ADD6t/wDNRR/wg/8AwUL/AOjoPgz/AOGH1b/5qK9mooA8Z/4Qf/goX/0dB8Gf/DD6t/8ANRR/wg//AAUL/wCjoPgz/wCGH1b/AOaivZqKAPGf%2BEH/AOChf/R0HwZ/8MPq3/zUUf8ACD/8FC/%2BjoPgz/4YfVv/AJqK9mooA8Z/4Qf/AIKF/wDR0HwZ/wDDD6t/81FH/CD/APBQv/o6D4M/%2BGH1b/5qK9mooA8Z/wCEH/4KF/8AR0HwZ/8ADD6t/wDNRR/wg/8AwUL/AOjoPgz/AOGH1b/5qK9mooA8Z/4Qf/goX/0dB8Gf/DD6t/8ANRR/wg//AAUL/wCjoPgz/wCGH1b/AOaivZqKAPGf%2BEH/AOChf/R0HwZ/8MPq3/zUUf8ACD/8FC/%2BjoPgz/4YfVv/AJqK9mooA8Z/4Qf/AIKF/wDR0HwZ/wDDD6t/81FH/CD/APBQv/o6D4M/%2BGH1b/5qK9mooA8Z/wCEH/4KF/8AR0HwZ/8ADD6t/wDNRR/wg/8AwUL/AOjoPgz/AOGH1b/5qK9mooA8Z/4Qf/goX/0dB8Gf/DD6t/8ANRR/wg//AAUL/wCjoPgz/wCGH1b/AOaivZqKAPGf%2BEH/AOChf/R0HwZ/8MPq3/zUUf8ACD/8FC/%2BjoPgz/4YfVv/AJqK9mooA8Z/4Qf/AIKF/wDR0HwZ/wDDD6t/81FH/CD/APBQv/o6D4M/%2BGH1b/5qK9mooA8Z/wCEH/4KF/8AR0HwZ/8ADD6t/wDNRR/wg/8AwUL/AOjoPgz/AOGH1b/5qK9mooA8Z/4Qf/goX/0dB8Gf/DD6t/8ANRR/wg//AAUL/wCjoPgz/wCGH1b/AOaivZqKAPGf%2BEH/AOChf/R0HwZ/8MPq3/zUUf8ACD/8FC/%2BjoPgz/4YfVv/AJqK9e1PV9J0S0a/1nU7e0gX7011OsaD6liBXBeIf2v/ANkzwi7R%2BK/2oPh3pjJ99dQ8a2EJH4PKKyqV6NH%2BJNR9Wl%2BbR3YPLMzzF2wlCpVf9yE5/wDpEJnPf8IP/wAFC/8Ao6D4M/8Ahh9W/wDmoo/4Qf8A4KF/9HQfBn/ww%2Brf/NRWVr//AAVI/wCCePhrcdR/bA8Dybev9n6wt3%2BXkB81x2o/8FtP%2BCaFnObKw/aIk1O5/ht9K8I6tOzfQra7T%2BdcU85yin8WIgv%2B34/5s%2Bmwvhv4iY1XoZPipLusPWt97pxR6N/wg/8AwUL/AOjoPgz/AOGH1b/5qKP%2BEH/4KF/9HQfBn/ww%2Brf/ADUV5if%2BCxfwA1fj4cfAT43%2BMSfuL4Z%2BF11KX%2BnmmOj/AIeP/tE%2BJv8AkmX/AASu%2BNV3u/1f/CVQ2miZ%2Bvmu%2B2s/7cyp/DU5v8MZy/KD/M7P%2BIWcew/j4P2P/X2rh6P3%2B0xMWv8AwE9O/wCEH/4KF/8AR0HwZ/8ADD6t/wDNRVv9lb4jfGnxhrHxQ8CfHTX/AAvq2qeAfiFFodnqvhPw1c6Tb3VrLoOj6mrPb3F7eMsiyajKhYS7SsaHapznyYftQf8ABV7xAM6H/wAEwND0RG%2B5Jr3xmsJjj1KwR5H0rof%2BCdmr/GXXtc%2BPOrftA%2BENI0HxdN8ZoDq2k6DqDXVrb48I%2BGxEElYAvmERs3ozMO1dGGx9HFzcYRmut5QlFffJLX5Hj53wlmGQYVV8TXw8rvl5aWJo1prRu7jSlO0dLN81k2l1PpOiiiu4%2BXCiiigAooooAKKKKACiiigAooooAKKKKACiiigAooooAKKKKAPF/gT%2Bx5rHwJ8aeL/Gtp%2B1l8SvEcnjjxXD4g16x8Q2nh0QPdpa29mQn2TSIHSN7e0tomAfOIQylXZ2bpvD/wCzroXhG5%2BJOu%2BE/HfiHT9e%2BJ2tf2pqviSN7SS706ZNPtrCBbQS27wrHDFaxlI5Y5V3tIzhzI2fQqKAPPPgP%2BztpPwOvPEviO5%2BIniTxj4k8X6jDeeIvFPit7MXd0YbdLeCIR2NtbW0UUcaAKscKZLOzFmZmPi/7SWv/wBj/wDBXH9lrTt%2BP7V%2BHXxOtcZ64HhufH/kHP4V9V18Rft46yfD3/BYD9iTUy%2BFksviNZtzwfPs9HiA/NhXJjp%2Bzw/N5x/9Liv1PoeFsKsbnCod6df71h68l%2BMT7dooorrPngooooAKKKKACiiigAooooAKKKKACiiigDz7xD8A/gV8cdJtv%2BF1fBbwl4w/svVdT/sz/hKfDlrqH2TzLt/M8rz428vd5ce7bjdsXOcCsf8A4YH/AGFf%2BjLPhL/4bnTP/jFZXxz/AG5/2Wf2LtJ0j/hpf4o/8I1/wkuq6x/Yv/Ekvrz7T9nu/wB9/wAesEuzb58X3sZ3cZwcec/8Pzf%2BCWX/AEdF/wCWTrn/AMhV4%2BKxWQU67jiZ0lPrzcnNtpe6vt%2BBpHj2vkq%2BpxzaVBQ%2BwsTUpqN9fgjWgle99Iq9763uet/8MD/sK/8ARlnwl/8ADc6Z/wDGK9D8DeAfAnwv8LWvgb4aeCtJ8O6JY7/sWj6FpsVpa2%2B92kfZFEqom53ZzgDLMSeSa%2BYf%2BH5v/BLL/o6L/wAsnXP/AJCr6H%2BBnxz%2BFn7Snws0v41/BTxT/bXhnWvP/szU/sM9t53kzyQSfu50SRcSxSL8yjO3IyCCdMFiclrVXHBypuVvscl7f9upO23kKXGdbiJfVp5lLEpe9yuvOqlbTm5ZVZpWva9r62vrr5B4m/YX8V6/8S/FPiCD4z6bB4Z8S/GDw38RToknhCSS9ttS0uPSYngF59tEbwTR6THgfZw8TzM2%2BRVCVzfiH/gmPL4h/bb079r67%2BKXh2RtL%2BIqeK7UXfw7SfxAqjRX0s6QNZa7zHpw8xrhLeO3TbITuZ8k16of2zvhgPHQ%2BGQ0DXz4gPxRfwKdJFrB5ovl0g6ybo/vsC0On4uBJndh1XZvOyvII/8AgrB8O/if4S1j/hRWmWyeJvDHxI%2BHuh%2BItI1nWtJ1WOLT/Efiq00Zp1l0TUrqFZhG19tjeVZIpYY2lhKOok9Qgk8Ff8Esh4P%2BBOpfBUfHT7QdQ%2BDngTwH/an/AAjGzy/%2BEbmvZftvl/aTn7R9sx5W4eV5ed8m7A%2Bl9d8ES%2BO/BniLwD8Srqz1HTNfgu7F4LGye2K6fPGYzC5aWTfJtZgZF2A5GEXHPy78Yv8AgqZF4E/Z68b%2BNvht8LfEfjTxX4Y8M%2BNdanTTvDtvDZaJa6Lqmo6bDdahFJqQkkge4sJFAtZJLidIJpVgg5jj%2BpfAPjSHxlpCTPa3UV3Da2rXxk0y4ggaSW3jm/cSSqEnQCQAtGzhWDIxDqwAB49%2Bzr%2ByJ8W/grrFz428Y/tAaV4s8SR%2BFNA8JaLqUngh7OG20LTbiaVhNCt85mv7hbiUSXKvFEHSBltgsbxy53hX9hHxh4T%2BKEXiSz%2BONhN4W8O%2BKPFPir4e%2BGLjwcxm0nXdeN491Pd3X2zF9bxvqWo%2BVbpFblUu9rSv5aEZn7Iv7Y3xs%2BMvj7wIfifpvhZfDfxl%2BGmq%2BOfh9BoOm3MF5otjZ3mmxraX8stzKl5LLb6vaS%2BbFHbqjwzIUYFGKat%2B2R8brH4%2BXlxbaR4Xf4Zab8ZbP4a3GnHTbj%2B3Jry402Ccaml19pECxLe3MVt9lNuWMavP54OIaAJdW/YD%2BJXjPVfFPxZ8e/H7QW%2BJetal4VvNF17w78PpLHSNMfw/dXNxZ%2BZp0mozy3Rl%2B23UNw5u0Z4HjjjMJiRxB49/YK%2BOGt/s%2B2Hwk8D/ALSfhbT9fuvi1Z/EPxn4n1v4Z3N/DqmqWviG112CK2tItXtzZ2yzWcFvseWdzboF8zzMzHkv2PP%2BCgnxj/al8UxfCA%2BPvhtbeNPEnwtPi%2BzstM8KX848A3kV3a295oOtQPqKPd3kBvYFba9k4ZJC0CK0e7e%2BHX7SX7Xfi39l/wAafGzXfiP4HjHh/wCJ2q6Voev%2BGvgP4g11dX0Wwm/s6SWPRbDV5bySZ9RiuSssUzx/Zo1kMeGMigHonxg/Zm%2BM3x08VeGbXx98afCkfg7QfFWgeJrjSdI%2BHk0OrXGp6XcQXcfl6hJqUiQW8lzAu6MWzSeQ8kHnEOXrG8ZfsL6x8ffibd%2BKf2rviNoPibw6vhDX/DGmeG/CHhW78PTPpurzWzXSXt8mpTzXDbLSJQYPsq7mkcoSUEfksX/BUbxjr83w60XVPEng34d3Op/CDQPHvjvVdW8H6p4nsIIdUubi3ihjl024ii063V7K6Mt/dytDD5lupVyzMPQfDf7Y3xs1T4%2B6VLfaZ4WHwz8Q/GXWPhpplhFptyNatr3T7C%2BmbUpbo3JhkhkutNubcWy26sqSRS%2Bc2GjoA1fhH%2Bwr4w/Zivvif4g/Zm%2BPlzbap8SPHdhrrS/E99d8XwWFrbaJZaabQrd60ks0zSWjTfaxMj7Hht2WSO1h28Vr/wDwS28YyfDo%2BBPCH7Sen27a94I8S%2BF/HM2u/D8ahBc2uuapPqd5JpluL2JdMdZbmWOJHN1EsMdsjxy%2BQpOB8D/%2BChn7Q3iL9kaLx98T9W8KL8X9Vj8C2L/Du9%2BEmveFX8Jan4j1C201XvINTvpJ9Rs4bm4kxPB5KSiwnRHLNmOfxx/wUc%2BMPgPULf8AZ88Tah4Ys/iPbfEXWfD2reKdN%2BG%2Bta1p0tpp%2Bl2Oq/arXQ7C6e%2Bllkt9VsFaEXJWHF1M0rJCEcA9F1D/AIJffA6D9oDwR%2B0D4M8X%2BN9IvvC/iy58QavYf8LE1%2Ba11q6l0uSwDm3OoC2t3w0TOyQkSpEYXUo5Fcz4E/4JxfH34aeBV0TwP%2B2PpmmeIvDfwhb4dfDTxZafDICfSdOa4tpHvdQjbUCuqX4W0i2Sr9miSR5pPJPmslV9a/4KNtf/ABz8OfC7wt8b/AtnoNv4Q8Ka34j8bP8AD3WNW07XP7anmjgW3ntLtYNDt5FgBiur6WZHe7jjVXMLl%2Bo%2BA37Uvxr8e/tJ%2BM/g98VPFvh7wzJb63r9n4C8Kal8Itc0%2B41W0s51SC/h1i6vRZ6ovlkSSw2sQYBwdyBSSAaFn%2Bwz4jv/ANiaT9irxV8SPDMGkXd7a22qXXhTwXd2UV/ohvIJ9Rspo7vU7uWW5voxeRTXjzszG9eRo3cNvj/a3/YAf9pbxh4j8S%2BHPiVpnhtPH/w2TwD8QTe%2BEf7Ru7nQ47m5uIxp0/2mH%2Bz7pWvbsiZkuF3PE/lboVNZ3wG/aC/am%2BNHiX4p/BuLx74Ls9d8Bvo72PjLWPg5rWkW0v2lrv7TC%2BiX2qx3ckSLaqYtQS5FtOZ3WMObaXPj/iD/AIKTftbeGv2YPhp8XtXh8Hm7%2BIOjeLPEVlrmh/CXXNZiuNIsZY30bGj2Oovd2y3tjNHczXzzvbWjbY5P9dExAPpG5/Zz/aBf9tif9p60%2BO/hCLwzJ4OPhyLwi3w4um1CO33NOsh1H%2B1hE0gujvJ%2BxhTEPK2hv31cZ41/YI%2BMfxevPEfjr4vftK6FN4w1Kx8N22h33hX4dy6dpdsNF1oazbm9sptSuZNQElwvlyKbiJfIaRIxG0jSHM8J/trfGvWP2l/D/hD4iaz4X8E%2BCtd0HwzPo8s/w41fVrXXtS1K2kkmsLXxNBeR6XFIsoijhVo3abzF2KxdRXZ%2BBvir%2B1N/w3hefs8eKfHPgDX/AAjp3w/l8S622ieAr7TdQ0hrq/8As2j2zXEmrXMU5mS21RnbyIubJSqgSYUA6H4NfALXPgT8MfiFdeMfHVn4h8Q%2BN9e1HxL4ivtJ0I6XYLdS2cNvstbRp7hoIxFaxFt00jPK0sjNmQgReOP%2BUhfwv/7Iz48/9O3hCvUvHP8AyJOsf9gq4/8ARbV5b44/5SF/C/8A7Iz48/8ATt4QoA9mooooAKKKKACiiigArxn9g/8A5Ihrn/ZZviP/AOprrdezV4z%2Bwf8A8kQ1z/ss3xH/APU11ugD2aiiigAooooAKKKKACiiigAooooAKKKKACiiigAooooAKKoeI/FXhjwdpj614u8R2GlWcf8ArLvUrxIIl%2BrOQB%2BdeG/Ej/gqp/wTv%2BFUjw%2BK/wBrTwlNJGSHi0G6fVWBHYiyWUg%2B1c2IxmDwivXqRh/ikl%2BbR7WUcN8RZ/PkyvB1q7/6d0qlT8YQkl82j6Bor5Jf/gsF8G/Fi%2BR%2Bz/8As6fGf4kzy8Wr%2BGPh3cLbOexaa4Mflp6sVOPSmr8dP%2BCu/wAXj5nwu/Yz%2BHvw0sn/ANTefFPxpJfzOv8AeMGmgNE3%2By2a4v7bwE/4LlUf9yMpfjZR/wDJj6f/AIhhxbh9cyjSwa74mvRov/wB1KlV/Kjc%2BuKK%2BST%2By1/wVK%2BJPPxU/wCCjukeFLV/9fpXw4%2BHNvk%2ByXd03mpj1wazdQ/4JYfs26kTP%2B0j%2B118WPHtw3%2BuXxj8VZIoB6hIofK2L/s5OKTx%2BPn/AA8K0u85wh%2BCc2TLhjgzAK%2BYZ9Tb7YehXrv/AMDmsNT/ABaPqrxb8Uvhl4BRpfHfxG0HRVUZZtX1eG2AHv5jCvKvGf8AwU1/4J%2BeAg/9v/tf%2BA3ZPvppevR37A%2Bm22Mhz7YryW2/YO/4Ik/Bm2Or654S%2BF9pHEcy3Xirxyblc%2BrG8u3WqZ/bV/4IXfs/3Qs/C%2BsfCixuIziNvB/gL7WzN7SWVo4Y%2B%2B78a5K2ZY2l/Fq0KfrOUn/7acOIzLwVypXxGLxdV/8Aclh0/wDwKpXmvkmdPL/wWq/YT1KVoPhvr/jHxo6tt2%2BFPh/qU%2BW9AZIYwf5Uw/8ABUvxV4p/0f4Qf8E4P2hdclb/AFVxq3gpNKs39MTzSkf%2BO02H/gsn%2ByrexLB8NPhj8WfFcariFfDHwwvXVh2CiQR04f8ABUvxhq/zeDv%2BCZn7Sl2h%2B5LqXgGOxVvcb5zx71zf2k6m%2BOj/ANuUm/xamcf/ABEHwgw/%2B7ZXOt2dTGV5/esPhYRfpzL1AftH/wDBWnx183gr/gnf4S8IQv8A6m48b/FGC6JH95orNAy/7p5o/wCEM/4LV%2BOvl1/40fAbwJE/RvC/h3UdTnjHuLwhC304o/4eEftc6j/yLf8AwSg%2BKEufu/2nrlhZ/nuJxQf2yP8Agprqvy%2BHf%2BCRd1Gp6Tat8a9IgC/VPLJP4Ue1wk/jxGIn6RnFf%2BSUo/mH/EXcmof7hkuFp9n9TxFd/fXqTX3xfoA/YL/bd8V/vPir/wAFYvHc7P8A6yPwf4O07RFUeimLefx60v8Aw6N8Da383xL/AG0P2ifFhb/WRaz8UpBCfYJFEm0e2aQfHX/gsJq/On/sIfDnSM9BqvxPW4K/XyE5/Cj/AITX/gtldfPB8E/2fbQHol14k1WRh9SgxR7LJ5b4etP/ABRqv/0qovyD/iN3GEP91c6K/wCnOCoUfu5cMmvlJFjTP%2BCKP/BOW3u11PxF8E7/AMQ3i/8AL34h8Y6pcsfqpuAh/wC%2Ba77w9/wTT/4J/eGEWPTP2Ofh5IE6HUPDFvdn8TOrk/jXnP8Abf8AwXEueIfA/wCzJbH1uNS15wP%2B%2BBSg/wDBdVvmC/smrn%2BFj4mJH5VrTjlFJ3hgJf8AgmP6yZxYzxh8QMwVsRjcwmu3PWS%2BSjXgl8kj3vQP2Yf2avCe0%2BFv2efA2m7fu/2f4Ss4cfTZGK7HTtJ0rR4PsukaZb2sQ6R20Kov5KBXynj/AILrf3v2TPy8T0h0f/guPqv7u%2B8Y/sw6Uv8Az00vT9fnb64m4rthj6VPSnhai9KaX/tyPmMVxVmOOd8RTxVR/wB9Sl%2BM68j61or5K/4U1/wWQ1Hm8/bO%2BFOm56jT/h3JMF%2Bnmvz%2BNH/DL3/BWTVBi/8A%2BCpOhaXnqdM%2BCWnT4/7/AEgrT%2B0sQ9sLU/8AJF%2BdQ4/7XxT%2BHBVn8qa/OqfWteM/sv8A/Jb/ANo7/ss1j/6hXhevMP8Ahir/AIKRTc3n/BXzV2J6%2BR8GtHjH4AScV0X/AATr8D/EP4b638efBfxW%2BL1z481%2By%2BM0H2/xXd6TDYyX2/wj4bkTMEJKJsjZIxjqIwTyTXRhsViK83GdCUF3bg/l7sm/0OrCY3FYmo41MNOmrbydNr092Un%2Bh9J0UUV2nohRRRQAUUUUAFFFFABRRRQAUUUUAFFFFABRRRQAUUUUAFFFFABRXxf/AMEw/iz%2BxL4Z8fftA/Cb9nj4sfDO30xPjvG%2Bi6B4V8R2BRhceHNCj3xRQyHcZbuK7UsAS80cwyXV8eC6dYeFfg/4G%2BPPwX/ZR174V/EbV9d%2BF3jjxJrfxF%2BDHhhbXxPocr6ssx0jU7q2ubl7q8li1C6%2BykG3mDaW%2B2AkbkAP1Kr89/8AgrRrB8O/8FLf2HdZDbQfGeuWZb/r4vPD8P8A7PXsP/BOU/BA%2BP8A4wf8MgHw9/wpn%2B2tG/4RT/hC/K/sT%2B0/7Mj/ALS%2Bw%2BR%2B524%2Bx%2Bb5Xy/aPP3fvfNr5r/4LLal8V4P2wPgR4s8beCvD2naF4Q1O/1Pw1qmleJ57y7vEXX/AApHI91byWUKWZXzEwEmuA245K4G7ys7bjlVWS6JP7pwf6M%2B98MKca3H2Boy/wCXkqkPnPD4qC/GUT9O6KKK9U%2BCCiiigAooooAKKKKACiiigAooooAKKKKAMrwf/wAgmb/sK33/AKVy1q1mTeEtGmuJLlTeQtK5eRbXUp4VZj1bajgZPc45pP8AhD9J/wCfvVf/AAeXf/x2gDUorL/4Q/Sf%2BfvVf/B5d/8Ax2j/AIQ/Sf8An71X/wAHl3/8doA8v8S/sM/BXxb%2B07qf7VOu3Gty6xq/gKbwre6ImoKmmNFKdsl%2BI1QSLfGAC288ScQqECjkniPA/wDwS1%2BE3hGNhrPxu%2BI/iSVbfwJaWUut3umL9is/CWt/2zpNrElpYQxrH9oJSYlTJJGT86yfvK%2Bh/wDhD9J/5%2B9V/wDB5d//AB2j/hD9J/5%2B9V/8Hl3/APHaAPnbx7/wSt%2BDnjLwTrXgXRvjN8R/C9t4o0jxLo/i258Oanp6T61pmt6pe6ncWczT2UoRIrjULryJIRFMiSspkfcxb6G8J%2BFZvCcMtinifUL602QR2Npepb7LGOKBItkZiiR2DFDIxkZzvdtpVNqK/wD4Q/Sf%2BfvVf/B5d/8Ax2j/AIQ/Sf8An71X/wAHl3/8doA8g%2BE37Bngb4L67c6/4K%2BLvjcS2nhrUPD/AIDivJ9Omi8Dabe3Md1PbaYpssMhlt7Qj7Z9qKrZwRg7E2m7efsQ/Di8%2BPzfHV/HPipbaXxXD4qufAqXVr/Yk%2BvxacunR6oym3%2B0%2BatukY8oXAtzJEkxhMo8yvUv%2BEP0n/n71X/weXf/AMdo/wCEP0n/AJ%2B9V/8AB5d//HaAOB%2BHn7LsHgrxvrXxR8SfG7xp4v8AFOqaGdG07xB4lOmLNoenmRpTb2cdnZW8CgylHaSWOWSQwwiR3WNFEOk/spw%2BBPgD4M/Z5%2BCHx18b%2BAdN8E6VbadY6v4fXSrm%2BvoIYPKxcnUrC6ikdyPNeRYldpMtuAZgfRP%2BEP0n/n71X/weXf8A8do/4Q/Sf%2BfvVf8AweXf/wAdoA8E8S/8EwvgRrfgSx%2BGWh%2BNvGegaE3gRfBfi6x0nUbVz4w0ISzStZajLc200pDPdXpaW2e3l/02cBwGAXpLT9hn4d2Pxvf4z2nxD8XJBH4kvfEul%2BDRd2f9kaZr93YSWFxq0C/ZvtHnvBNcfu3ne3D3MsghDtur1f8A4Q/Sf%2BfvVf8AweXf/wAdo/4Q/Sf%2BfvVf/B5d/wDx2gDxa9/4J%2BeDPFVl4nuvix8c/iB4z8ReJLDSLSDxhrc%2Bl29/oq6XfnUtPeySwsLe1jkhviLoO8EjO6IJC6IqB0X7AHg6w0HT59A%2BOPj7TfG1j4n1HXpvijbSaS%2BuX13fQi3uvOWXT3sTG8EdvEI1tVVFtLfywjRhq9n/AOEP0n/n71X/AMHl3/8AHaP%2BEP0n/n71X/weXf8A8doA8Iv/APgmT8Bzo2jeDvC/i/xfoHhux8JaH4Z1/wANaVqFq1t4o0vSJpJrGC/kuLaW4yrTTh5LeWCSVZmWRnUKF668/ZJXXvi4nxg8a/tC%2BP8AXbrSzqj%2BDdKvm0mKz8LTX0TwyTWYtrCKWWSOGR4o2vJLnYjtwSxY%2Bk/8IfpP/P3qv/g8u/8A47R/wh%2Bk/wDP3qv/AIPLv/47QB5JafsP6JP4b%2BJNn40/aA%2BIfiPxF8UPBsXhbW/HOpXGl2%2BqWOlxJerBDZrZWEFpA0T6jeSrIbdnLzZcuERVu/Fr9jDwV8RZvCmoeBviT4s%2BG9/4N8L33hnRtQ8By2KOui3gs/PsGS%2BtLmLyybCzZXVFljMA2SKGcN6d/wAIfpP/AD96r/4PLv8A%2BO0f8IfpP/P3qv8A4PLv/wCO0AeS3P7DHgu4Twd4QX4ueNYvh94El0GXw98LIZdOXRopdGaCTTneX7F/aEnlTWttPsN3saSFSylcqe8%2BH3wQ8KfDn4j%2BOvippuoaheax8QNWtL3V5tQljcW0drYw2cFpbhEUpboInlCsXbzbqdt2HCrvf8IfpP8Az96r/wCDy7/%2BO0f8IfpP/P3qv/g8u/8A47QAnjn/AJEnWP8AsF3H/otq8u8cf8pC/hf/ANkZ8ef%2BnbwhXqJ8GaG%2BFna%2BmTIJiuNWuZEb2ZWkKsPYgivLvHH/ACkL%2BF//AGRnx5/6dvCFAHs1FFFABRRXn/7S/wAcbn4A/DWLxZovhFfEGtar4h0vQfDehyaj9jjvdR1C9itIFln8uQwQq0vmSyCORlijcqkjBUYA9Aor59uf26LrQv2XvFPxu8W/CmO08T%2BDvGJ8I634St/EQktI9YfUoLCDGoPAmLKQ3VrcG5aBWjglLPEGRo64H4lf8FS734ZeHLOw8S%2BBfhvpPiu2%2BOEnwz8XjxP8YG07w1ol6PDNx4iS4/tdtMZ5Ve2S2hCNaxMLi5MZwYzuAPsCvGf2D/8AkiGuf9lm%2BI//AKmut16t4S1TUNc8K6ZrWrQ6fHdXmnwz3Mek6iby0WR0DMIZ2jjM8QJO2QxoXXDbFztHlP7B/wDyRDXP%2ByzfEf8A9TXW6APZqKKKACiiigAooooAKKKKACivOf2hP2uf2a/2VNDXX/2gfjHo3hqORN1va3c5ku7kdzFbRBppffYhx3r5h%2BLX/BcL4f8Ahfw63ib4Ufsv%2BPdd01wfsfiTxasHhjRrs44WK7vmzI3T5RHu5GAc15uLzfLMC3GtVSa3W7%2B5JtfOxx/X8NLGxwVNupXloqdOMqlRt7JU6cak23/hPuSivyg0n/gpd/wWJ/bYvG039jL4BaJpGlS4EXiOw0WSe3gOSGV7/U/LtWZRzhImJ7Z4ru/DP/BJn/gox%2B0FMmsftw/8FI/EdtayMHm8NeCtQnZDnnBI8i3jYeqwyD0NeXT4keNf%2BwYWpVX8zShD/wACk9fkmfQ4vhzifAL/AG3CrCvtiatOjU/8EJ18QvSdKk/JH6F%2BOfiL8P8A4Y6HJ4n%2BJPjnR/D2mxAmTUNb1OK0gXHq8rKo/Ovkr45/8F4/%2BCfnwfmk0vwz431Px3qKP5fkeEdP3QK/bddXDRQlfVkZ8CofDf8AwQK/4J7aeBP450Lxj4yu9wMl/wCJfGNx5snqCbXyRg/TNeyfDn/gmn%2BwL8KVT/hDf2SfBCyRj93capoqahMvuJLvzHB985rWq%2BKMQrUo0qK7tyqP7kox/M4cBj4YWTeIwMazXfEVIU3/ANu0qHtX/wCBw%2BR8L%2BL/APg4G%2BJ/j3UX0T4UeE/hx4DWRtttdeLtS1HxFdXC/wB6ODR7dlR/RZHIyOTiskfHv9r74/HzfF/xX/a18VWk3P2X4L/B2DwvYxL/AHVv5JDK4PYvHnFfq34b8FeDfBlt9j8H%2BEtM0qHGPK02wjgXHphFArTrl/sDNMRrisa5eSi0vuUoo99cc8V4ZWyulgsCu9HBwq1P/B2NqYqd/NQj6H5ReHf2YdH1DUk1%2BT/giz8W/iPrX/LPVfi/8Xo4nc/9NBLJ5Qz3yhr3H4b%2BAP8Agox4WRYv2f8A/gnD%2BzZ8IOPkk1jVftUkfuzaXEpc%2B/evuyiujD8OUMO7xqtP%2B7GnF/eoSl/5MeLm/EHH3EUPZ5tn2LrQ/l9ooQt2UIRUEvJQSXRHyT/woD/gr746%2Bfxd%2B374B8EBvvweCfhdHqIA9A1%2B4b8etB/4Ju/tFeLf3fxb/wCCqPxovo3/ANcvhGS00Et6gGFH219bUV3f2Ng5fxHOX%2BKpN/gpRX4HzH%2Br%2BXy/iyqT/wAVWo/wU4r8D5JX/gih%2Bw9rZ8/4s2vjvx9cn7154x%2BImpTSse5JhliHP0rU07/gi3/wTF0sAW37Kemtj/n517Upv/Rly1fUVFNZHkyd/q8PnFN/e7v8Rx4c4fi7/VKbfdwTf3y5n%2BJ4B4d/4JW/8E6/C94l/pn7IHguR4/urqOm/bE/FJy6n8RXsPgr4VfC/wCG1qLH4dfDfQdAgUYWHRdHgtUA%2BkSqK3qK66OCweGd6VKMfSMV%2BSR3YfL8vwjvQowh/hjFflFP8QooorpOwKKKKACiiigAooooAKKKKACiiigArxn9l/8A5Lf%2B0d/2Wax/9QrwvXs1eM/sv/8AJb/2jv8Ass1j/wCoV4XoA9mooooAKKKKACiiigAooooAKKKKACiiigAooooAKKKKACiiigAooooAKKKKACvzq/4L32c76JpWu2SZuNF%2BE3iLULf2aPxZ4Fyf%2B%2BS1forXwv8A8FkNA/4SS0vtO2bvL/Zo%2BId1jH/PDWPBs%2Bf/ACHmvNzmDqZPiIrrCf8A6S3%2Bh9t4aYmOD8RcnrS2jisPf0dWEX96k18z7jsbyDUbKHULV90U8SyRt6qwyD%2BRqWuN/Z11/wD4Sv8AZ98CeKN%2B7%2B0vBul3W7PXzLSJ8/rXZV30pqpSjNdUn96T/U%2BTx2Glg8dVw8t4TlH/AMBlKP8A7aFFFFWcoUUUUAFFFFABRRRQAUUUUAFFFFABRRRQAUUUUAFFFFABRRRQAUUUUAFFFFABRRRQAUUUUAFFFFABRRRQAUUUUAFeM%2BOP%2BUhfwv8A%2ByM%2BPP8A07eEK9mrxnxx/wApC/hf/wBkZ8ef%2BnbwhQB7NRRRQAV59%2B0v8Drr4/fDWLwnovi9fD%2BtaV4h0vXvDeuSad9sjs9R0%2B9iu4Glt/MjM8LNF5UsYkjZopHCvGxV19BooA8N%2BH/7K3xG8EfCPxj4B1T4meD/ABDqnjq61LVfEV9r3w7kn0%2B71W9mYyGSxOo4ewW2ENstoZfM2Q7nuXZiaw/hB%2BxP8SP2cfhVqnhT9n74jfDXQNf8T%2BLZtd8V3Mnwgc6EzNYwWEcGn6Va6pb/AGCOO2tLZAGuJ922Rn3NKWH0dRQB5t8IP2XPhp8Mf2WfDf7JPiHS7Xxf4Y0Hwva6Jc23iXTYJ4dShhjVf3tuVMW0lciILsUYVQAorlP%2BCdPhjw14K/ZuvvB/g3w9Y6RpGl/Fv4h2mmaXplolvbWkEfjPWljiiiQBY0VQFCqAAAABXuleM/sH/wDJENc/7LN8R/8A1NdboA9mooooAKKKKACiuX%2BLnxr%2BEfwE8ITePfjP8RtH8M6RBkNfaxfJCrtjOxAxzI57IoLHsDX5k/tR/wDBVP4j/to%2BM1%2BAn7MFj4v0rwjqLeXFZeD7U/8ACXeMYyAT5PBXR7FlILXEv7wowYI6%2BZGPIzTOsFlUUqjvN7RXxP8AOy82vRSeheCwuZZxmMctyrDyxOKknJU4WuorepUlJqFGlHedWrOnTiurdov7o/aQ/wCCjv7Kv7MurjwR4n8bzeIfGUz%2BXY%2BAvBdodU1i5l7R%2BRFnymPbzWTPbNfHH7Rf/BSj9pvx7q48Fa744s/gRY3snlWngrwnaDxR8RdUz0iFtDiHTGcA4EzRSoeheum/Zu/4JL/G3VtHNv8AEXWdJ%2BBnhS9jxfeCfhPOZ9f1OM8mPU9fm3zSZOd0UTNCwY4VK%2Byf2dP2Nf2ZP2T9IOlfAT4PaRoMkkey61NITNfXQ6nzbqUtNIM84LYGeAK8f2fEWcfG/Y0301Tfyupv5umvI%2BmfC3DOVa8SZi8XVX/MLl8uSkn/AC1sfOPNPtJYSjbe1XqfBX7O/wDwTv8A2oviH4g/4WD4O%2BGlv8HEvZBLd/E34r3C%2BK/iDqP/AE1RJgLfTXYZBwscyEj5mr6t%2BEf/AASj/ZN%2BH3iRfiP8StG1b4q%2BMmw0/i34p6m2sXDMDkFYpf3KAHlcJuXj5uK%2BlqK9PB8PZbhEuaPO1reVmr91H4U/O0n/AHmdf%2BvGY5fgpZfw/Rp5ZhZaOnhYunKa/wCntduWJrN9XOuk/wCRbDLe2t7O3S0tIEiiiQJFFGoVUUDAAA4AA7U%2BiivcPjG23dhRRRQIKKKKACiiigAooooAKKKKACiiigAooooAKKKKACiiigAooooAKKKKACiiigArxn9l/wD5Lf8AtHf9lmsf/UK8L17NXjP7L/8AyW/9o7/ss1j/AOoV4XoA9mooooAKKKKACiiigAooooAKKKKACiiigAooooAKKKKACiiigAooooA8n/ZS/aD%2BIHx3Xx/o/wAUvhPpvg/XfAHj1vDd7p%2Bk%2BKW1eC4B0zT9RjnE7WtsVYx6giNHsIVo2w7gg1518U/29fit8Al%2BIVr8af2dNEtr7wp8GPEfxH8P2vhz4hPqA1Cy0jyw9rfM%2Bnw/2dPMZ4RGUF1GwW4wzeQQ3S/s4fs4ftNfBf4gfELxh42/aD8CeILX4heOofEl7Y6V8Lb3TpLRl0%2By0%2BSBJZNauAQ0FhblWKfLIZGIZWVEzPgR%2Byd%2B018JvFPxI8eeMP2kPAnivxD4%2BFxKniC6%2BE95Dd2kiuf7OtZSdbkjl060heSNbOJLcu0jzGUSyzPKAehfsq/HPUv2iPhb/wALIv7r4dXEcuoSQWlx8MfiM3ijTpI1RM7rw2VptmDl1aIRsFCqd5LFV8V/4KG6B/wlPxFuPDYTc19%2Byh8WIEGP4mn8LAH8yK9e/Zt/Z68WfB/xH46%2BJHxK%2BIml%2BI/FXxC1y21DW7jw94ZbR9Oi%2BzWUNnCsNq91dSB/LhBeWSeRnJA%2BVERF82%2BKHwF%2BFFh%2B3zo%2Bq%2BCfhd4e0nXPHPwH%2BIMXiXWNK0SC3u9Xf%2B0fCiRtczRoHuCvmPguWI3HHU1jiKftcPOHeLX3pr9T0smxf1DOcLiv%2BfdWnP8A8AqU5f8Atp2//BOfX/8AhJf2Cfg5qhfcR8NtHgds9WhtI4j%2BqGvZ6%2BYv%2BCNOvf8ACR/8EzfhTqBfcYtJu7X6eRqFzBj/AMh19O1y5TU9rlWHn3hD/wBJie54gYT6hx7m2G/kxWIX/leq/wBQooor0D5EKKKKACiiigAooooAKKKKACiiigAooooAKKKKACiiigAooooAKKKKACiiigAooooAKKKKACiiigAooooAKKKKACvGfHH/ACkL%2BF//AGRnx5/6dvCFezV4z44/5SF/C/8A7Iz48/8ATt4QoA9mooooAKKKKACiiigArxn9g/8A5Ihrn/ZZviP/AOprrdezV4z%2Bwf8A8kQ1z/ss3xH/APU11ugD2aiisvxt418J/Dfwhqfj/wAd6/baVo2jWUl5qeo3km2K3gjUs7sfQAfU9BSlKMYuTdkiZSjCLlJ2S3H%2BLvF3hfwF4Yv/ABr428QWmlaRpdq9zqOpX86xQ20KDLO7sQFAA618T/Fn/gpZ8Zfjl4N1nxL%2BxZ4Ys/CPw30eF3179oT4n2b22l28SnaW02yZfNvpCflTKkGTCGP5gaxPFGv3f/BRLTrn9qH9q3Urj4ffsn%2BD2/tLRPDmqyNb3Pjdom/d318F%2BYWhbHk265aViuASVJ3/AIRfCDxl/wAFN/F%2BifHf48%2BCZfC/wB8MSxy/Cf4TTwCH%2B3vLG2HVNRiX5RDtx5Nv93ae6EtP8pi8wxmYTVLCNxUvhtpKS6zb3p0l0dueo9IWvc9LhXhytxfRq5vj68sHk9FpTqxS9tiJNXVHDKX26i2dvchetUdOmoKr83/B7/gnv8Xv%2BCiHjGD4reIPE/jJPCMpBl%2BMHxSHm69rsWckaJpZJg0q1bhklYO6/K0b/ejH6Ufsx/se/s9fsg%2BEm8J/Ar4e22mG4AOqavMfO1DUpOpkuLh8vISSTjIVSTtVRxXpccccMawwxqiIoCqowAB0AFOr0csyHBZbL2tuaq95vf5b2XzbfWTPYzDiODy95TkuGjgsBdN0abbdRraeJrS/e4mr15qsnCLb9lSpqwUUUV7Z8uFFFFABRRRQAUUUUAFFFFABRRRQAUUUUAFFFFABRRRQAUUUUAFFFFABRRRQAUUUUAFFFFABRRRQAV4z%2By//AMlv/aO/7LNY/wDqFeF69mrxn9l//kt/7R3/AGWax/8AUK8L0AezUUUUAFFFFABRRRQAUUUUAFFFFABRRRQAUUUUAFFFFABRRRQAUUUUAFFFFABXz58WfFqaD/wU%2B%2BB3h2ZwF1z4OfEaCNTjmWPUPCEwP/fEcnHv7V9B18U/ty%2BLG8G/8FfP2LL6SXbb3%2Bl/EbTZxn7xntdFWMf9/Ah/CufFVvYUefzj%2BMor9Tlxtf6th/adnH8ZRj/7cdF/wRX/AOJb%2BxKvgfp/wjHj3xHpez%2B5s1KaTH/kWvrSvkv/AIJNf8SnTPj/AOBm4/sP9pfxVDAnpA7W8iH8dzV9aVw5Fpk9GPZW/wDAZSj/AO2n6V4q%2B94i5nV/5%2BVFU/8ABtOhV/8AcrCiiivWPz8KKKKACiiigAooooAKKKKACiiigAooooAKKKKACiiigAooooAKKKKACiiigAooooAKKKKACiiigAooooAKKKKACvGfHH/KQv4X/wDZGfHn/p28IV7NXjPjj/lIX8L/APsjPjz/ANO3hCgD2aiiigAooryH9tf4kePvh58J9Isvhl4lbQtY8WeP/DvhiHxElpDO%2Bkxahqdvbz3Mcc6PE0wheQReYjxiVoy6OoKMAevUV8pWHxl/aon/AGQ/ihYeDfEGo%2BKvHfw%2B%2BI134Zt/FFroNrLqV9pcV9atNfx2cMSW89/Bp1zLiJIhHNc2oAhAk8qvOvhZ%2B1V%2B0J8cPHEf7LPh742eOvD4h%2BM2p6AvxM8QeBtO0/xLe6TbeE7DXER7C805bW2uGudRWPMlijG1tc%2BUkknmIAfeVeM/sH/8kQ1z/ss3xH/9TXW6d%2By3%2B0TrPjr9ivwn%2B0J8Wra6utSl8OrL4gbwz4eur17y4icwSz21naJLO6yuhkWKNXYK4HOM1n/8E6fENh4t/ZuvvFOlW99Fbaj8W/iHc28Wp6XPZXKI/jPWmAlt7hEmgcA8xyIrqchlBBFAHulfBPxu%2BIeif8FIPiprfhvU/FC6X%2By78Grt734leJfOKQeMdTtR5psY5F%2B/ZwbQ8jLnecbesTj3z/gpp8d9S/Z7/Yq8a%2BLfDDSHxFq1iug%2BFYbc/vpdRvmFtD5Y7unmNKB/0yNfMOk/BOD41X/gP/gkX8Mp9nw3%2BEej6fqH7Qmuaa22PVdR4mTR1dcZaa48yaXByB3DRFT8zneKlUrLBxV9E3H%2BeUm1CD7R92U6n9yNtnr1ZBw3HjXiT%2BzcVUdLAYen9YxlRK/LRUrKC6OVRrlhDepOVOHw%2B0Z2Xwj%2BF/i7/gqP4z0X4%2B/G/wAIzeHf2fvDM6TfCn4X3EIi/wCEkaMbYtV1CJfl8jaP3Nv90qe6FjN9yxxxwxrFFGqoqgKqjAAHQAVFpum6fo%2BnW%2BkaTYw2tpawpDbW1vGEjijUBVRVHCqAAABwAKmr2MDgY4ODcnzVJayl1b/SK2jFaJed2/f4o4nqcQ16dKjTVDCUE40KEX7tKF76vTnqzspVasveqT7QjThAoooruPlgooooAKKKKACiiigAooooAKKKKACiiigAooooAKKKKACiiigAooooAKKKKACiiigAooooAKKKKACiiigArxn9l/8A5Lf%2B0d/2Wax/9QrwvXs1eM/sv/8AJb/2jv8Ass1j/wCoV4XoA9mooooAKKKKACiiigAooooAKKKKACiiigAooooAKKKKACiiigAooooA%2Bef2BtM1Xwr4j%2BPHw3uvH3ivxBp/hj41my0Sbxh4qvNYura3k8NaDdtCs95LJIsfn3M8gjBCIZWCqo4r5E1X9oH45eAfgfY/GXwx8dvFsviT4jfArxz4h%2BIq6h4kuL238LX9lrGlW/2yztZ3eDS/7OW%2Bv4PLhSNH%2Bzq0qyPCWr73%2BHn7GX7H3wj1y58TfCj9lH4a%2BGNSvbyK7vNQ8PeBdPsp57iNi0czyQwqzSKWYqxJIJJBGa3PD/wA%2BA/hLxB4l8WeFfgn4R0zVfGZP/CYanp/hu1huNdzuz9skSMNdZ3v/rC3329TQB5b%2Bxm2oeFPix8Z/gfpXjjxD4i8LeDfFOlJoF54o8TXes3djJdaNaXVzYm9vJZZ5lVpEuAJZHZBe7QRGI0X5J/4K3/Ebxda/wDBRX9lfxJqHwm8Q6BpvgbxfqNwfEOq3OnPaazaS6r4bgme2W2u5Z0VRIob7RFAfnG0Nzj9FPhf8IvhP8EPCcfgL4LfDDw74Q0KGZ5otF8L6LBp9okjnLuIYEVAzHknGSetfCP/AAXi0W81DTtI17SV/wBP8O/CPxNrFi2PuPb%2BKPA7M34Rl68vO7/2RXkt1Hm/8Bal/wC2ni8Rc39hYiUd4xcv/AHGf/th65/wT2/4kf7Wf7V3gbp9n%2BKdnqmz0%2B22CyZ/HZX1pXx/%2BxzrdnL/AMFO/wBpWbT2/wBF8VeG/A2u2Qzxs/sySIsPqWGa%2BwKnJGvqLS6TqL/ypK34M/WfEtqrxLTxC2q4XBVPXmweHv8AjB/cFFFFesfABRRRQAUUUUAFFFFABRRRQAUUUUAFFFFABRRRQAUUUUAFFFFABRRRQAUUUUAFFFFABRRRQAUUUUAFFFFABRRRQAV4z44/5SF/C/8A7Iz48/8ATt4Qr2avGfHH/KQv4X/9kZ8ef%2BnbwhQB7NRRRQAVzvxY%2BE/gH43%2BAr34Z/E3Q21DR794JJoYr2a2ljlhmSeCeGeB0lgmimijljlidZI5I0dGVlBHRUUAeceFv2Ufgv4I%2BHt18L/CFn4k03SL20nhuhZ%2BPNYjupXnupLqe7N0Lv7R9tknlkke98z7S5b5pSAAMu%2B/Yb/Zp1D4Z2Hwpk8IaxFYab4gl12z1Wz8a6vBrSapLHLFLenV47pdQe4kinmieVpyzxSNGxKHbXrdFAGV4F8D%2BEfhl4J0j4ceAPD9tpOhaBpkGnaNpdmm2K0tYY1jiiQdlVFVR7CvLv2D/wDkiGuf9lm%2BI/8A6mut17NXjP7B/HwQ1zP/AEWb4j/%2BprrdAHzD/wAFYPjbbSftF%2BEvBvmpLpHwU8H6l8VvEkLgNHJqMSm00OFs8BjeuvynJKy5xivob/gmX%2Bz9H%2Bz7%2Bx74VstYtpG8U%2BKbNfEnjfUbpi9ze6reqJpmmduWdAyxZ/6Z%2B5J%2BBNSEn7ZXjM69KDOP2pv2hYbDT0PPmeAvC/MjKP4dzorMBwWhycnp%2BvCqqKERQABgADgCvkskSx%2Ba18c9VtH/ALe2/wDKcY/%2BB%2Bev1GXyllvhdRqJ2qZtiamJl3eGwv8AsuFT7xdT6xWS2vaW6ulooor60%2BXCiiigAooooAKKKKACiiigAooooAKKKKACiiigAooooAKKKKACiiigAooooAKKKKACiiigAooooAKKKKACiiigArxn9l//AJLf%2B0d/2Wax/wDUK8L17NXjP7L/APyW/wDaO/7LNY/%2BoV4XoA9mooooAKKKKACiiigAooooAKKKKACiiigAooooAKKKKACiiigAoooJAGSaACivOPgP%2B1r8Af2l7vUbH4MeNp9Uk02ztr2QXWhX1gLqxuGlW3vrU3cMQvbOUwTCO7tzJBJ5bbZGxXL3v/BRP9lbR77xZp3inX/F%2Bgy%2BCPAmp%2BM/Eg8TfCrxHpiwaHp5UXd5G13YRi5CFhhITJJJzsV9pwAe318ef8FNPBv/AAn/AIru/CaReZLc/sq/FNrZMdZku/Ckkf8A4%2Bi19PfCv4r%2BF/jH4bk8VeEdK8S2drHdtbNF4q8F6noVyXVVYkW%2BpW8EzJhxiQIUJDAMSrAeYfF7QbPxT%2B3P8P8AwxqAzb6j8C/iDazjGcpJqfhFG/QmscTSVfDTpP7UWvvTX6nPi6CxOEqUX9qMo/fFr9T5l/4Jz%2BNFvv21fBWuX0uD4/8A2PfDd8kpPyzXdlOltOmf7wwxx6V%2Bh1flB%2Bxzr174G8LfsQ/GXU28qXTPFXir4ZeJOeHe6nuY7KIn/ZaMMB61%2Br9eBwvVc8DKL3upf%2BBwhL81L8T7XPqzzPhXhvNl/wAvsvowf%2BPDSqYea9bKm36oKKKK%2BlPkgooooAKKKKACiiigAooooAKKKKACiiigAooooAKKKKACiiigAooooAKKKKACiiigAooooAKKKKACiiigAooooAK8Z8cf8pC/hf8A9kZ8ef8Ap28IV7NXjPjj/lIX8L/%2ByM%2BPP/Tt4QoA9mooooAKKKKACiiigAr5x/Z%2B8U/8IN%2BxR8S/G3mbP7H8ffFa%2B35%2B75Xi3XpM/wDjtfR1fFPj3xT/AMId/wAEj/j9rIk2F/EvxZtFbOMNceLtdtxj3zKK5sZV9hg6tT%2BWMn90WzkzCt9WwFar/LCT%2B6Mn%2Bh4d/wAETvCT/E34veGfEMsJfR/gp8FbLS9PBHyDV9duJtTmmQ92FvIYmx0yM1%2Bo9fE//BAb4U2fgT/gnzpXj0lnvPHOu32pzvKcukUMpsIIsn%2BFY7QMB0HmGvtivI4Ww7oZHRlLea5n80rfdFRR9txfKnh8Zhsppfw8BhsNhYrzpUKftXbvKvVrt%2BnoFFFFfQHygUUUUAFFFFABRRRQAUUUUAFFFFABRRRQAUUUUAFFFFABRRRQAUUUUAFFFFABRRRQAUUUUAFFFFABRRRQAUUUUAFeM/sv/wDJb/2jv%2ByzWP8A6hXhevZq8Z/Zf/5Lf%2B0d/wBlmsf/AFCvC9AHs1FFFABRRRQAUUUUAFFFFABRRRQAUUUUAFFFFABRRRQAUUUUAFZvjLw%2BfFvhDVfCovntf7T02e0%2B0xjLQ%2BZGybx7jdn8K0qKAPkP9iz4U/tG%2BC/HvgvxD8Wv2eNR8NReBvgzo/w3f7PrmlXMep3UUm%2B51OEQ3ZZdOjFrAIvMCXTG7fNsgQk9NrP7OeufEjW/2kvHf7QHwa1HxFp3xB0CLwJoHg/StatYrzVfCFvp8iyRxTG5ijtprq81LVWBeaFggty7IVG36WooA8N/Yh8H/GzwlpfjX/hZmi%2BMNE8O3vipJvh/4Z%2BIfjGPX9b0uwFjbJOtxepd3m9XvFuZY0a6uGRHALqCsMWVf%2BC/Enh7/gpt4L8Rat8XPEOu2erfB7xw9hoOq22nJaaKF1bwllLZra0incPuGftEs5%2BQbSvzZ%2Bh68Z8cf8pC/hf/ANkZ8ef%2BnbwhQB8BeMdF1Lwv%2BwZ8f10W3Lap8B/2t7nxLoEC9Vgjv7V43H9391cTt9Aa/VnQta07xJoln4i0i4Etpf2sdzayjo8bqGVvxBBr4Z8H/DBfHX7R37dX7LDQAp4u0LSNQ0lMfelv9FmR5APVZxHz6ivdP%2BCW/wATz8Xv%2BCfPwo8YSzmSaLwlDpdy7H5jLYs1k5b3LW5J%2BtfKZF%2B4xbpd4yXzpVakf/SZx%2BVj6bJf9u8GMMvtYDHYii/KFeLqR%2BXtKErebPfKKKK%2BrPmQooooAKKKKACiiigAooooAKKKKACiiigAooooAKKKKACiiigAooooAKKKKACiiigAooooAKKKKACiiigAooooAK8Z8cf8pC/hf/2Rnx5/6dvCFezV4z44/wCUhfwv/wCyM%2BPP/Tt4QoA9mooooAKKK%2Bfv%2BClx0wfs12v/AAmnl/8ACFf8LC8L/wDCyPtH/Hv/AMI9/bNp9t%2B1Z4%2Bx%2BX/x87v3f2bz/M/d76APoGivzv1HxR8OX/4JmfGjwR8MfE%2Bnw%2BCpvHF%2B/wAO7fR7iNrOx8KT63Bbm/8AITJfQI7n7e7iMCF7CKVImEZQjzfQPhh%2Bzh4p%2BCNy/jn9of8AZs0fwp4J/aQ1LWfCmo%2BKfBtvJ8NvF4fwjFbNb6PpUmpJHbxRSX8m9Yrq6H26zu5huMjRxAH6sV%2BcX7bXib/hHP8Agi58XreOYJLqvxs8Y2ELE/3/AIkakXH/AH7V6%2ByvgF8QPH3jv9jjwT8S/BnwR0nw74g1bwHpl9Y/D/Vb%2BXS7LTJZLaJhYtIlpJJbxRg7F/0YsoUAxqcgfm//AMFKPF3iex/4I922leLNMsbDWte/af8AGkWradpeovd28EieKfE08qxTyRQtNGrxqA7RRlhglFzgeLxHV9jkOKn/AHJfirfqcePwcsywrwUd67hSXrWqUqK/9On3r/wSx8M/8In/AME7vhBpfl7fN8FWt7jH/Pzm4z%2BPm5/Gvfq4P9lnwz/whf7Mfw58HeXs/snwHpFnsx93yrKJMf8Ajtd5Xfl9P2OAo0%2B0Ir7oxPq%2BK8XHH8VZhiY7Tr1pL0dWrb8OUKKKK6zwAooooAKKKKACiiigAooooAKKKKACiiigAooooAKKKKACiiigAooooAKKKKACiiigAooooAKKKKACiiigAooooAK8Z/Zf/wCS3/tHf9lmsf8A1CvC9ezV4z%2By/wD8lv8A2jv%2ByzWP/qFeF6APZqKKKACiiigAooooAKKKKACiiigAooooAKKKKACiiigAooooAKKKKACivj/9nH9ov4/%2BJ/jR4E8XeNPinPq3h34seIvHWlx%2BB5NIsYrfwyuj306WMlvNFAty7eRaPHc/aJZg01wrRiBV8tlT4%2B/tAfA79ozxreftJa18TI9E1TWddT4PaM2n%2BGT4Y1uCz0dtQS0Sa0hbVorzyrPUJh9qdI3WF9u/AWgD6/rxnxx/ykL%2BF/8A2Rnx5/6dvCFcB%2Bw/8Xfj5qfxG03wF8afjLL46Xxb8FdB8eRXkuj2Nmuj3t1NNHdWduLOGLdZNmEwCbzZ18qXfPNuGzev/id4b8Y/8FNvBfgzSdN8Qw3nh74PeOI7%2BbVfCOo2NpKX1bwlg211cwRwXoG05a3eQLkbiNy5AOK8R3B%2BBP8AwWT0TX9ZUR6P8bfhXLo9hcdB/bGlzfaCjHpzbMAvcs2BUv8AwSe/4oKy%2BNn7M83yf8K9%2BNmsR6Xb/wDPPS7wrc2px2zulPpWl/wVz%2BH/AIjv/wBl6D9oP4d2m/xX8F/Etl420QrkF47STN1ExHPlm3aR2HQ%2BUAa4n4NfFLw18OP%2BCmE3xCglMfgv9qz4d6PrPg7VtwEMurafagG1bskjWsof/aZlXljx8lN/Uc6ipbc7d/7taPK/uqwS/wC30fTeHkZYnL%2BJeHVrKpSp42kusnQqqdVRXVxpyrtpa8qfZn23RRRX1p8yFFFFABRRRQAUUUUAFFFFABRRRQAUUUUAFFFFABRRRQAUUUUAFFFFABRRRQAUUUUAFFFFABRRRQAUUUUAFFFFABXjPjj/AJSF/C//ALIz48/9O3hCvZq8Z8cf8pC/hf8A9kZ8ef8Ap28IUAezUUUUAFFFFABRRRQAV%2BL3/BWbVbvUv2Xvhp8LLCXE2vftIfFeWJPVo/GGpwA4/wC3v9a/aGvxW/a4uI/Hf7WH7PvwakHmCX4%2B%2BO38vrtF38T9QiZj7bbY/lXzPF7vkNSmvtuEf/ApxR63DkVU4tymLV19bw0mvKnVVaX/AJLh2/kftHYWNvplhBptmm2G3hWKJfRVAAH5CpqKK%2Bm2PKbcm292FFFFAgooooAKKKKACiiigAooooAKKKKACiiigAooooAKKKKACiiigAooooAKKKKACiiigAooooAKKKKACiiigAooooAK8Z/Zf/5Lf%2B0d/wBlmsf/AFCvC9ezV4z%2By/8A8lv/AGjv%2ByzWP/qFeF6APZqKKKACiiigAooooAKKKKACiiigAooooAKKKKACiiigAooooAKKKKAPKtD/AGKf2cfDHxF1X4reHPCGqWGuavLdyzXFp4w1WOK0e7u4ry9azgW5ENgbq4hjluDbJEbllJm8zc2dDT/2U/grY/GAfHW40rXdS8RQz3U%2Bnvr3jTVdRstMluUaOeSysbq5ktbFnjZ4y1vFGdkjpna7A%2Bi0UAecfAP9kv4B/sxPqEnwW8GXOmNqVnaWUrXmv32oGCytfN%2By2Nv9sml%2ByWcHnzeVaQ7IIvNfZGu45wPHH/KQv4X/APZGfHn/AKdvCFezV4z44/5SF/C//sjPjz/07eEKAPW9e0PSfE%2Bh3vhrX7CO6sNRtJLa9tZRlZoZFKOhHoVJB%2BtfnF8Hf2fPFfxo/Yt%2BIf7B1nrUtv8AFT9mb4iyz/DPWncLcR7JHvdIuNx%2B6s8bSwjPCqFODtGP0or5G/bO%2BEfxi/Z0%2BNZ/4KPfsraRPrl9BpcNj8XPh7Ec/wDCS6PB925t%2BMi8t0%2B713IoAHDJL4Wd4WNSEa8ouUUpRmlvySWrXVuElGatro2tVZ89LN8y4Uz/AAXEeA/iYWd3pe9N/EnH7cVb3oa80JVI2d7P2D9iL9p/Sv2vP2bvD/xmt7MWWqTRNZeKNIKlX0zVYD5d1bsrfMuHBZQ3JR0J616zX5%2B6T8TNT/Z08Q6p/wAFJP2OdPb4hfAP4qyx6v8AE3who8ONT8O3yrsuNUtos4ZgdxuYThgykkhQHj%2B3fhD8YPhp8evh3pnxX%2BEXjCz13QNXgEtjqFk%2BVYdCrA4KOpyrIwDKwIIBGK2yrH/WKao1ZXqxXynHpUj0cZKzdvhk2nbS/wCgcXZFgVGPEGR2nleKfNSlF83spSSnLDVHvGdNuShzWVWkoVIOSc1DpaKKK9c%2BHCiiigAooooAKKKKACiiigAooooAKKKKACiiigAooooAKKKKACiiigAooooAKKKKACiiigAooooAKKKKACvGfHH/ACkL%2BF//AGRnx5/6dvCFezV4z44/5SF/C/8A7Iz48/8ATt4QoA9mooooAKKKKACiiigAr8UfC6RfEz/gtD8OPDe7e3hz4q%2BMAI88DyvG3izUScev3T%2BAr9rq/FT/AIJ5aLeeLv8Agvt4y1mc74PD3xP%2BJDQL/cAv9SjP/j14fzr5jii86WFpfzV6a%2B5uX6Ht8LRvxXhJ/wDPtYmr86WBxkl/5NNL5n7V0UUV9OeIFFFFABRRRQAUUUUAFFFFABRRRQAUUUUAFFFFABRRRQAUUUUAFFFFABRRRQAUUUUAFFFFABRRRQAUUUUAFFFFABRRRQAV4z%2By/wD8lv8A2jv%2ByzWP/qFeF69mrxn9l/8A5Lf%2B0d/2Wax/9QrwvQB7NRRRQAUUUUAFFFFABRRRQAUUUUAFFFFABRRRQAUUUUAFFFFABRRWb4y03WdZ8IarpHh3UvsWoXWmzw2F5kjyJmjZUkyORtYg8elAGV8Ofjb8GPjDcavafCP4u%2BGPFMvh%2B/Njr8XhzX7a%2BbTboEgwXAhdjDICrfI%2BG4PHFY/h79q/9lrxdo/ijxF4T/aV8Aapp/gi1lufGl9p3jKxnh0CCJZGklvXSUraoixSlmlKhRG5JG04%2BYv%2BCfdhregfEDwJd3HwO8a%2BDLPwn%2Bz94d%2BHviWDV/A2oWiTa9BLI4to2aALc29osV0ftyFrQnUFCTsZGAyoofA/7b2ofG3W/jH8MPix4D8PXXwf174b%2BHvD9t8GNfstRj8N3L%2BVfakjzaaYbq7ncRPaWUAneKCEOY2eeaKIA%2BzPhX8Z/g98dfDcnjL4I/Ffw14x0eK7a1l1XwrrtvqNsk6qrNEZbd3UOFdCVzkB1OORXn3jj/lIX8L/APsjPjz/ANO3hCqf7EPjf40eM9L8aj4k6t4v1rw7p/ipIPAHif4geCx4e1vVrA2Ns8zXNj9ltNoju3uYo5Da25kSMHYwAmlyr/Tfivaf8FNvBd5428aeHtQ0K4%2BD3jg%2BGtO0rwxPZ3dgg1bwl5i3NzJezJdk5TBSG3C7TkNuG0A%2Bh6KKKAPkH4jfsYftFfsxfEvX/wBoP/gm/wCJdJS38R3v9oeMfgr4kUJpGsXOMST2UwI%2Bw3DgdOI2YjcwVQlfOXgX4g%2BDdA%2BLera3%2ByB8Xz%2BzR8Xb29E/jD9nn4vW/k%2BGtbuyMbrZiFSMykfLLAQzgDakanJ/UuuL%2BNn7OfwI/aP8Nnwn8dfhPofiixCkRJq1gskkBPVopPvwt/tIyn3r53GZFzPmwsuWzbUW2km93CUfept9UuaD6wLyDM%2BIeDMTVq5DWiqdVWq4etBVcNVV%2Ba0qbvy6ttONuWTcoOnK7fz74L/4KteE/AOs23w0/b6%2BE2ufBTxVJJ5Md/q1u934e1J8fftdRhBjKnknfhU6FyQa%2BpfCni/wn480C38V%2BB/FGnazpd4m%2B01LSr2O4t5l9UkjJVh7g18heJv%2BCT3jDwDoV14c/ZD/AGvvEvhnw7OpDfDjx/YQ%2BKvDjR/88Ft70FoYz3OXbvXzL4l/YI/bt/Z31258XfDf9na40W%2BaQyXPiP8AZo%2BJ0mm29x6PPouph1n4xmGHykyOOOvIsyz7LtMTQdSK6qzf3wTT%2BcIPufTPO/D7OdcfhcRlNZ7unF47Bt90oOOMox8nGuorrZH60UV%2BSNh/wV9/bu/ZhnXR/jvp0OtWsLCM2/xW%2BG9/4V1i4boFSWzWeywf77kZ4JxzXt/wq/4OE/2a/EssemfFj4Q%2BK/Dd4Yw9xPoE9r4gsYB/tTWknmD/AL9djXRQ4tySrLkqTdOXaaa/HVfkXR4Tlmcv%2BETH4THeVHE01V%2BeHxDwuIT8vZyd9NXoff8ARXhHws/4Kc/sA/GQRL4I/at8ICabAitNZ1H%2BzJ2P90RXgicn2Ar2/S9V0vW7CPVNF1K3vLWZd0NzazLJG49Qykgj6V7tDF4XFR5qNSMl5NP8mzyc1yDPciq%2ByzLCVaEu1SnOH3c8Ip/JssUUUV0HkhRRRQAUUUUAFFFFABRRRQAUUUUAFFFFABRRRQAUUUUAFFFFABRRRQAUUUUAFFFFABXjPjj/AJSF/C//ALIz48/9O3hCvZq8Z8cf8pC/hf8A9kZ8ef8Ap28IUAezUUUUAFcd8ePjZ4a/Z%2B%2BHUvxE8TaRqeqbtSsdM0zRdEhjkvdU1C9uorS0tIFlkjj8ySeaNd0jpGgJd3RFZh2NeX/tb/Bvxn8Z/hhYWPw1vNMi8TeGvGGi%2BJdAj1ueSKyurjT7%2BG5NrPJFHI8STRpJD5qxyGIyCQJJs2MAZn/Dbnwutf2bNe/aV17wv4j0u28MancaTr/hW9tbf%2B1rLVYbwWZsGWOdrcyNO0apIJzAyypL5vltvrn0/wCCh/g%2B60s6dpn7P/xFvPG6%2BNrrwtL8MrWHSG1iO%2BttOj1OdjKdRGnmFLOaCUyi7K7po4f9cfKrltR/ZA/aM8T/ALL/AMSvhVr0vgq28RfE3xLP4m1uKDXLufTJZJdQhaTQZC1mkjWUum2sVnLeBRIxuJ3W2TCqeY%2BGH7CP7RXwLu9O%2BLXwZ8DfCnQtX0n4gaxqmh/CHTfEV5a%2BFtF0fUdHs7KeztLyLTN8UjXtkupNssUjZ7q4jCKX88gH1j8I/il4N%2BN/wt8O/GP4eag91oXinRbbVNJnlhaJ2t54lkTejYaNwGAZGAZWBBAINflB/wAEfLNZv%2BCyX7SvivWf3dno3i34hyRSsCf3kvi8wjGOuVjcADkniv0u%2BA37NFp8Lv2RvC37L3izxRqF8dI8K22maxrOgapd6TNc3CoDPNBNaypPahpd7LskDKpC7jyT%2Bfn/AARb%2BHln4c/bJ/asWxF68Phr4s3ukQTanqM15cvHN401eVDLcTu8s8hSFC0kjs7k7nYsSa8LOKXtcVgl2q3%2B6E2fWcJYeTlmOMtdUcHiNezqvD0Iv75yXzZ%2BoP8AwmGk/wDPpqn/AII7v/41S/8ACYaT/wA%2Bmq/%2BCO7/APjVfO3j7/gsj/wTe%2BF/jvWvhp45/aN%2Bw634d1a50zWLL/hENYl%2Bz3VvK0Use%2BO0ZH2ujDcpKnGQSOayf%2BH5f/BLT/o6H/yydb/%2BQq6ZZ5ksJOMsTTTX9%2BP%2BZ6FHwt8TMRRjVpZJi5Rkk01h6rTTSaaahZpppp9U0%2Bp9P/8ACYaT/wA%2Bmq/%2BCO7/APjVH/CYaT/z6ar/AOCO7/8AjVfO3gH/AILI/wDBN74oeO9F%2BGngb9o37drfiLVrbTNHsv8AhENYi%2B0XVxKsUUe%2BS0VE3O6jcxCjOSQOa779v74wfEz9n39ib4p/HH4N2mmzeJ/CXgfUNV0ddXmZLdZYIWk3vtjk3bVDME24dlCFkDF168LjcHjYuWHqRmlvytO3rY%2BfzzhniThitClnGCq4aU03FVac6bkk7NpTSbSeja66Hpf/AAmGk/8APpqv/gju/wD41R/wmGk/8%2Bmq/wDgju//AI1Xz3qf7bnxt8K/EPxz4L%2BIXwK8CaFp/wAMvh5aeJvHPie7%2BKl0bG3e7i1Rre2tsaOJZ1D6fGJZXSIolwWjjmdBFJzPw2/4KVav8VdU8M6Hq3wn1fwvrcXxol8HeIdIWW8toZEPg/UNfhn26xo9pevC6QxJt%2Bz2kglQMsskKlbjpPDPqr/hMNJ/59NV/wDBHd//ABqj/hMNJ/59NV/8Ed3/APGq%2Bef2Sv2%2BfiT%2B0Pp%2BiXHjn9mD/hH7vxZ8JtF%2BIPhPS/D3jWHVZ7rTr5gjwTm4gsore4hLxMVDyI6PkOGUx11P7Vfiz4q6l8Wvhf8As8fC34r6h4Ebxtdaxdat4r0bTbG6vYrewshIttAt/b3FurSTTQszPE58qCVV2swkQA9d/wCEw0n/AJ9NV/8ABHd//GqP%2BEw0n/n01X/wR3f/AMar5yg/aE/aR%2BJ//BMjwh8f/h9aXP8AwnOu6R4dm8Q3fhXQ1vbi3tJb%2B0i1jUNOspFkE8qWZvLm3gKy7mWNdk5xG/h7/toftY%2BOdCtPhd8MvEHxR1jUtK%2BK3iLQ5LnRfCnh/TPHHiDSbPRrTUbe8NprltBptrHHJqMEM/mQ28p/cBY0lkeOgD79/wCEw0n/AJ9NV/8ABHd//GqP%2BEw0n/n01X/wR3f/AMar88rn9uz9r3Xx8PviHonxRuL3QofAfwz1Lxprng7QtM/4Ri0vNXvdmrPrMeoQjVo0khKm1j08B4Nwe7EKHdXv9/8AHL4w/Av9oT9pNfF/xK1Pxt4c8D/BTQPH/hfw1e6ZYWw0ua4ufFaz2UEtrbxyyxvHo9mAbh5nDByGAbbQB9G/8JhpP/Ppqn/gju//AI1V%2Bwv7TU7RL6xnEkUgyrAEd8EYPIIOQQeQRXzb/wAE8/jl45%2BJVtqPh34z%2BPfiFfeMpvCuieJZ9I8ceHNE0%2B1isb8XIjutLXS0Li0klgnQQ3ssl5CIEEoUvl/oPwf/AMgmb/sKX3/pXLQBq0UUUAFFFFABRRRQAUUUUAFFFFABRRRQAUUUUAFFFFABRRRQAUUUUAFFFFABXjP7L/8AyW/9o7/ss1j/AOoV4Xr2avGf2X/%2BS3/tHf8AZZrH/wBQrwvQB7NRRRQAUUUUAFFFFABRRRQAUUUUAFFFFABRRRQAUUUUAFFFFABRRRQAUUUUAFeM%2BOP%2BUhfwv/7Iz48/9O3hCvZq8Z8cf8pC/hf/ANkZ8ef%2BnbwhQB7NRRRQAUUUUAFFFFAEd3aWt/bPZ31tHNDKpWSKVAyuD1BB4Irx74k/8E8P2Gfi20k3jz9lHwNdTzZ829tvD8NpcP8AWa3CSH/vqvZaKxrYbD4mPLWgpLzSf5pnPiMJhMXHlr04zX96Kl%2BaZ8TfEL/g3%2B/4J3eN4Db6H4d8XeF0yTGmg%2BLJpFjJ7qt6LgD8q8wf/g3Zs/AeoSav%2Bzj%2B3f498F3JbdHKLFXfI6Ze1mtjn3Ar9KKK8erwvkFaXM8PFPvG8X/5K0b4CWKyik6WXYith4P7NGvXpR/8AhVVP/ymfnfpv7CH/Bbn4SgJ8JP%2BCm%2Bj%2BIY4/uJ44s5ZjIPRjcW92wz67s%2B9btp43/4OEPhsqwap8G/gx8Q40OHls9RNpPIP9lnuLZBn3T8K%2B86KI8P0aX8DEVoelRtfdNSHWr5rXd54upL/ABKjP8ZUFJ/OTPiGb/gof/wUs8BQJH8Vf%2BCQPiO6ZTia58IeN4L/AOu2KCCY/wDj9XLv/gs/4e8F6VHf/Gj9gT9ozwkzZ8yW8%2BHYNsvriWSaMt/3xX2lRWqy/NKfwYyT/wAUKcvy5WcDw%2BYO3%2B0ddf3VPX7nFL5I%2BMvD3/BfD/gm3qmI/EfxJ8Q%2BHJc4eDWvB16XT6i3jlFdp4e/4LG/8E0PExA039rHRIs/9BDT720/9HwJX0brfhzw94mszp/iTQrLULc9YL61SVD/AMBYEV5r4n/YU/Yp8Z728T/skfDa8kk%2B9PJ4KsRL/wB/BEGH51LpcRQ%2BGrSl6wnH/wBJmzWnh8Zd82JX/glP8VWj%2BRn6L/wUW/YJ1/H9nftk/DQFvurdeM7OBj%2BEsimus0f9qL9mfxDj%2BwP2ifAt9u%2B79j8XWUuf%2B%2BZTXjnij/gjV/wTO8Xbjqf7KWkQFu%2Bl6pfWWD7C3nQfpXnfiX/g3s/4Jx69u/svwz4t0Xd0/szxTI236faFl/WspVuKYf8ALmjL0nOP5xZ30sDKe%2BNpr/FQxC/GFSf5H2fpXjPwfr2P7D8WaZe7vu/ZL%2BOTP/fJNaVfnD4i/wCDaD9ke6Rl8KfHH4h2Jbp9vksLoD/vm2jP61ytz/wbYXmjP5vw8/bv1zTghykNx4VZgfYtFfR4%2BoFZSzLiWn8WAT/w1Y/rFHoUsjqVfhzLB/8AbzxsH%2BOEqJfefqRRX5YXH/BDH9uHw0m3wF%2B3TbSlfuNc6nrtkf8AyFdyYrJuP%2BCUX/BZvw5MZND/AG3JJoF%2B5Fonxm8Q2kh9v38Dr%2BtZvPc4p/Hl1T5Sg/1OunwnnNb%2BHi8vl/3PKDfyq4OP4tH6y0V%2BTg/Yy/4LbeFVxD8TPifrRXvZ/tFwDd/4FWf86iPw6/4LgeGyft%2Bh/HOJF6SWnxZ8Oarkeu3yVP4Uv9ZsRH48DVXyv%2BSNFwRxnP8AhUsLU/wZnl7%2B5Tq0n%2BB%2BtFFfkv8A8Jn/AMFePD3/ACFtf/acttvX7H8NNA1jH/fMq7qP%2BGnv%2BCleiHGsfHr9qbSQv3n1T9jLR54v%2B/i3hJ%2BuKX%2BtdBfFh6i9Uv1SH/qF4kv%2BHk8qn/XvFZfP8sem/uP1oor8lz%2B3r%2B2Ho/8AyMH7fvj7T8df%2BEg/ZFjgx9fJdqVP%2BCoXxa05xFq//BWrwlZOTgJrn7OWqQHPv5UDAUf635cvijJerpr85oP%2BIf8Ait9nhrHS/wAFOnU/9N16h%2Bs9Ffljpn/BTT4032P7N/4Kz/AWfPT%2B0/hhq1r%2Be6IYrotM/wCCgn7UV9j%2Bz/8Agp5%2ByRNnp/aNnf2357mGK1jxVl09k/vpv/3KcFfhTxFwv8bhzMI%2BuEqfpc/Syivzz039tP8Abgv8DSP%2BCg37C96T0SbxTdox/wCArPmt7Tv2mv8Agp3qOP7F/aU/YY1EHoY/FWsEn/viU10R4hwk9qc36KL/ACqnkVsLxLhv42TY2Prhaq/NI%2B7qK%2BLtP%2BMP/BYHUMf2d4i/Y%2B1DPT7D4i1s5/8AHjWxbeMP%2BC2c0fmwfD39mq7T%2B9a65rOD%2BJreOcU5bUav/gF/ymzy6uZ1qDtVweIj60ZL85I%2BuaK%2BSv8AhN/%2BC2EX%2Bs%2BB37P8v/XLxLqi/wAxR/wsf/gtJH9/9m34HS/9c/GF8v8ANar%2B1qf/AD5q/wDguX%2BZj/blL/oHrf8AgqX/AMkfWteM%2BOP%2BUhfwv/7Iz48/9O3hCvMP%2BFrf8Fmo/v8A7J/wck/65%2BOrkfzWqnwU8Yftk%2BK/%2BChfgwftb/B7wl4T%2Bz/Bnxl/wj58LeIHv/te7VvCvn%2BbuA8vbth2%2Bu9vStaGY069VQVOor9ZQkl829DfDZtSxNZU1Sqxb6ypyivm27I%2BwKKKK9A9QKKKKACiiigAr88v%2BCQmg4%2BKH7XfjXZ/x/ftW6tYb8dfs3iC7bH4faP1r9Da%2BK/%2BCU/ho6L8OPj9rDp82s/toeOrkMe6p4lEAH0Bib9a4cVT58Vh32lJ/wDkjX6n1WRYxYXIc2hfWpSow%2BX1qnN/%2BkI%2B1KK%2BYvH/APwU1/4QLx3rfgX/AId8/tPa1/Yur3Nh/bGgfCf7TYX/AJMrR%2BfbS/aR5sL7d6PgblZTgZrI/wCHsP8A1jU/a0/8M3/91VjLOssjJxdTVf3Z/wDys/PJcQ5NCTjKrqtPhqdNP%2BfR9aVi/Ef4eeDPi58Ptc%2BFXxG0GLVfD/iXSLnS9c0ydmVLq0uImimiJQhgGRmGVIIzkEHmvnzwD/wU1/4T3x3ovgX/AId8/tPaL/bWr21h/bGv/Cf7NYWHnSrH59zL9pPlQpu3u%2BDtVWODivZv2k/GHxO%2BHnwC8X/EH4M%2BHLTWfE%2Bg6Bc6lo%2Bi3sLumpSQIZTagI6EPKqNGjbsK7qxDAFT14bGYbGRcqMrpb6SX/pUY/qduDx%2BDzCLlh5cyWj0kvP7UY/hcxoP2Nf2eF8K%2BKfB2p%2BENS1ez8a%2BG7fQfFUviLxXqep3WpWEH2nyY5Lm7uZJ96fa58ShxKNy/P8AIm3O8D/sFfstfD3Ul1zw/wCAtSm1IeLh4ol1bWvGOraleXGrjSJtGF3NcXl1LLOw0%2BeW3xIzLtKnG5EZfDfEf/BR/wCJvxI8LXPjH9lxtD1Ww8R%2BO5tI%2BFEsXhJdUbxBp1hpC3Wq3sjXOt6VbQxxXfnwB2uF2izcBJWkHl8T4N/bq%2BI3xc8R6J8eLL7Ta6d48%2BGX7O%2Bqx%2BFG1%2B9%2Bw6VP4i8Xa7bX8kH2aeLc5i8lGY5SdbWFZkliXyj0nYfYfhj9k74EeCbHRLDwd4TvdKXw54GtPB2iTad4j1CGa00W1eN4LVZUnDnaYo8yFjIwBDOwZgdH43/s9fCn9onRNP0P4paPqMw0jUTfaRf6J4ivtIvrG4MMsDPDeWE0NxFuhmmicJIA6SMrAqSK%2BTfgn%2B1T%2B1B8bv2pPhB4w1PxV4R/sTx38LfH%2Bt%2BHPh7pV1e6e1rJZ3%2BjQW0GrSma4S6lj80o1wltEbaR7hFikzk%2B3ftv6t4kn0z4UfDeXxVqvh3SPHfxXsND8Z6l4b1240%2B6hszp9/dJBDe27RT2/n3trZ2vmRtHIy3BVSpcUAehSfs7/CxPAY%2BGGjWOsaLoEXhyw0Ky0zwz4r1HSo9PsbMk26Wn2O4iNm6g7TLAUldERGdljRV5fU/2D/2YtU8EaH4D/wCEN1myg8Oahe32latpHjjWLHWEubwubyaTVLe7S%2Bne4LsZjLM/nHBfcVUjzX4Raj%2B0L8U/%2BCbfjfQ/hP8AEm7n8aWepeO/DngHxZrGqlri4t9P17VNP0y4kvJQ5aU2ttAPtbhy7YnbfuOfNfh34/tdL%2BF37R8Xx/0b4ueHvh78H7uz1zS9N1H41anP4jtJ10Nbq706TVdM1SWaXcxjmS1N5OP9Oi4XMcUQB9HXn/BPz9kW71jQtWh%2BExso/D2maRp9jpGk%2BINQstMntdKk8zTYruwguEtb9bZ%2BYvtMUuwgYxgVqaJ%2Bxz8CdA%2BPOvftK2ll4pn8WeJ9MTTddk1H4i65eafd2SNcNFbNps949kIY2u7po41gCxG5lKBS7E/LX7Qvwb/aF%2BBP/BLHRfFN38U/Fc/xK%2BHXw1udX8X%2BLL/46a/aT6LcNBJeXd8sAlki8QPbTh1t7PUZFhkjhWFp0Vmz942F3FqFjBfwFzHPCsiGSMo2CARlTyDz0PIoA4D4Ffsq/A39m6bULv4R%2BF760uNTs7SyubrVfEmoapMlla%2Bb9lsopL6eZ4LWHzpvKtoisMZlcqi7jnsPB/8AyCZv%2Bwrff%2BlctalZfg//AJBM3/YVvv8A0rloA1KKKKACiiigAooooAKKKKACiiigAooooAKKKKACiiigAooooAKKKKACiiigArxn9l//AJLf%2B0d/2Wax/wDUK8L17NXjP7L/APyW/wDaO/7LNY/%2BoV4XoA9mooooAKKKKACiiigAooooAKKKKACiiigAooooAKKKKACiiigAooooA%2Be/g1%2B3HrXxS%2BMOl%2BEdX%2BD0GkeEPGGpeJNP%2BHviuPxKbm51S40S7a3uRdWRtkFmswiuJ7dknn3xQEyCB2VDmXP/AAUSTQfiLNN4y%2BFEOnfDGXxh4i8J6T47TxE015Pq%2BiWF9eX4l077MFhtgNK1OJJhcO7SWoBiQSo1TfDr9hXx98NviZp3ijS/jvpd14e8Iar4h1D4c%2BHLzwVIZNKm1q%2B%2B03n2u5W%2BX7aIo5Lq3tgkdv5UdxmX7SyAmC5/4J2Lr3xFmh8ZfFiHUPhjF4x8ReLNJ8CR%2BHGhvINX1uwvrO%2BMuo/aSs1tjVdTlSEWyOsl0CZXESLQB1H7K37Wfjj45%2BKLrwL8Wfgpb%2BB9ak8FaP4v0SztPE/9qrc6RqLXKRrM/wBmg8i8he2ZZ4FEsa%2BbEY55QW22vHH/ACkL%2BF//AGRnx5/6dvCFVP2Vf2S/HPwM8UXXjr4tfGy38c61H4K0fwhol5aeF/7KW10jTmuXjaZPtM/n3kz3LNPOpijbyohHBEA27gPjN8OdU%2BF3/BRvwH8RP2WP2cfhrdeLvFXwo8bv4wv9X1ZvDsmpJHqnhPZNPd2emXkt3IrNhVkQACRyHH3WAPrCivGf%2BE4/4KF/9Gv/AAZ/8Pxq3/zL0f8ACcf8FC/%2BjX/gz/4fjVv/AJl6APZqK8Z/4Tj/AIKF/wDRr/wZ/wDD8at/8y9H/Ccf8FC/%2BjX/AIM/%2BH41b/5l6APZqK%2BcdJ/aO/bt1j4z6/8AA63/AGUPhIuqeHfC%2Bka7eXL/AB11TyJINRudSt4UQjwxuLq2lzlgVAAePBYlgvUf8Jx/wUL/AOjX/gz/AOH41b/5l6APZqK8Z/4Tj/goX/0a/wDBn/w/Grf/ADL0f8Jx/wAFC/8Ao1/4M/8Ah%2BNW/wDmXoA9morxn/hOP%2BChf/Rr/wAGf/D8at/8y9cv4B/aO/bt%2BInivxv4Q0f9lD4SQ3HgPxRFoWqyXPx11QJPPJpWn6mHi2%2BGCSnk6jCpLBTvRxjADMAfR1FeM/8ACcf8FC/%2BjX/gz/4fjVv/AJl6P%2BE4/wCChf8A0a/8Gf8Aw/Grf/MvQB7NRXjP/Ccf8FC/%2BjX/AIM/%2BH41b/5l6P8AhOP%2BChf/AEa/8Gf/AA/Grf8AzL0AezUV84/CL9o79u34y%2BFLvxf4c/ZQ%2BEltb2fijW9CkjvfjrqiuZ9L1W60ydxt8MMNjTWkjIc5KMpIU5UdR/wnH/BQv/o1/wCDP/h%2BNW/%2BZegD2aivGf8AhOP%2BChf/AEa/8Gf/AA/Grf8AzL0f8Jx/wUL/AOjX/gz/AOH41b/5l6APZqK8Z/4Tj/goX/0a/wDBn/w/Grf/ADL1y/wR/aO/bt%2BPHwY8IfHHwr%2Byh8JLXS/GfhfT9d0221D466os8MF3bR3EaSBPDDKHCyAMFZhkHBI5oA%2BjqK8Z/wCE4/4KF/8ARr/wZ/8AD8at/wDMvR/wnH/BQv8A6Nf%2BDP8A4fjVv/mXoA9morxn/hOP%2BChf/Rr/AMGf/D8at/8AMvXL/G79o79u34D/AAY8X/HHxV%2Byh8JLrS/BnhfUNd1K20/466o080FpbSXEiRh/DCqXKxkKGZRkjJA5oA%2BjqK8Z/wCE4/4KF/8ARr/wZ/8AD8at/wDMvR/wnH/BQv8A6Nf%2BDP8A4fjVv/mXoA9mpHjSVDHKgZT1VhkGvGv%2BE4/4KF/9Gv8AwZ/8Pxq3/wAy9H/Ccf8ABQv/AKNf%2BDP/AIfjVv8A5l6APTNU%2BG3w61vP9teAdFvM9ftWlQyZ/wC%2BlNc7qf7LX7MetZ/tn9nPwHd56/afCFlJn/vqI15b8Xf2jv27fg14UtPF/iP9lD4SXNveeKNE0KOOy%2BOuqM4n1TVbXTIHO7wwo2LNdxs5zkIrEBjhT1H/AAnH/BQv/o1/4M/%2BH41b/wCZespUKE/ign6pP80zvoZtmuF/g4ipD/DUqR/9Jmi1qX7Af7C%2BrZN/%2Bxt8LXY9XXwFp6sf%2BBLCDWDqP/BLv/gnlqmftP7H3gZc/wDPvoyw/wDovFan/Ccf8FC/%2BjX/AIM/%2BH41b/5l6P8AhOP%2BChf/AEa/8Gf/AA/Grf8AzL1zyy3Lp/FQg/8AtyP/AMievR414zw/8LM8TH0xFf8A%2BXM47UP%2BCO//AATT1PP2n9k7Q1z/AM%2B9/ew/%2Bi5xWNc/8EP/APgmHNJ59v8As1taydpLTxlrEZH4C7x%2Blelf8Jx/wUL/AOjX/gz/AOH41b/5l65fx9%2B0d%2B3b8O/FfgjwhrH7KHwkmuPHniiXQtKktvjrqhSCePStQ1MvLu8MAhPJ06ZQVDHe6DGCWXCWSZNLfDU//AI/5HqUvFDxLoK1POsWv%2B5it%2Bs2cz/w5S/YTtv%2BQJoPjPTPT7B8Q9TXH/fUxo/4c4fs4W3/ACBfjJ8ZtN9PsPxQvFx/31mvTv8AhOP%2BChf/AEa/8Gf/AA/Grf8AzL0f8Jx/wUL/AOjX/gz/AOH41b/5l6n%2Bwsm6UIr0VvyaNv8AiK3iU/izavL/ABSUv/S6czzH/h0b4Ktz/wASb9uH9pfTcdPsPxckXH/fUJqn8FP2Up/2Yf8AgoV4LST9pf4rfERNa%2BDPjLYPif4t/tU6d5OreFc/Zj5SeX5nmjf13eVH028%2Btf8ACcf8FC/%2BjX/gz/4fjVv/AJl6oeB/A/7VnjH9qzw58bvjd8OPh74Z0bwz8PfEOhww%2BFfiHfa1dXd1qV9olwjMlxpFikUaJpcoLB3YtKgC4yRtQyrL8NVVSlTtJecvyc2vwPPzTj7jDO8DPB4/FupTna6cKCbs0170cPCa1S2mr7O6un7rRRRXoHx4UUUUAFFFFABXzn%2BxD4a07wv%2Bzx4rvLLzCLz9obx/qV6zDO0/8J5qhduB91Uj/IV9GV8lfsleLP2ztP8Ah74os/hj8A/hhq%2BhJ8afiL/Z%2Bo698XdR027mX/hM9ZLGS2i0C5SIhtwAEz5AByCdoTSbT7FxqTjCUE9JWv52d19zPqD/AITnwT/0OGl/%2BDCP/wCKpf8AhOfBP/Q4aV/4MI//AIqvLf8AhOP%2BChf/AEa/8Gf/AA/Grf8AzL0f8Jx/wUL/AOjX/gz/AOH41b/5l6ZB6l/wnPgn/ocNK/8ABhH/APFUf8Jz4J/6HDSv/BhH/wDFV5b/AMJx/wAFC/8Ao1/4M/8Ah%2BNW/wDmXo/4Tj/goX/0a/8ABn/w/Grf/MvQBqX3wM/Yo1T4caT8HdT%2BDvwtuPCOgXv2zQvCs/h7TX03TbndI3nQWxTyoZN0sp3ooOZHOfmOdDT/AIcfso6Ta2tlpXgP4e20NlaaTaWUNvpdii28GlzyXGmRIAoCJaTyyy26jAgkkd4wrMSfM/gj%2B0d%2B3b8ePgx4Q%2BOPhX9lD4SWul%2BM/C%2Bn67pttqHx11RZ4YLu2juI0kCeGGUOFkAYKzDIOCRzXUf8Jx/wUL/6Nf8Agz/4fjVv/mXoA1bH4H/sVaX4p1vxzpnwg%2BF1vrfiWC6h8R6xB4f01LrVY7rH2lLmUJvnWXavmByQ%2BBuziug8b6V8APiZ4Iufhl8SNN8HeIPDd5CkV34e1yG0u7GeNGVkR4JQ0bKrKpAK4BUEdBXFf8Jx/wAFC/8Ao1/4M/8Ah%2BNW/wDmXo/4Tj/goX/0a/8ABn/w/Grf/MvQB1Q8E/swjw9b%2BER4R8BjSbTw3P4etdL%2BwWX2eHSJxGs2nJHt2rayCGIPAB5bCJAVO0Yr%2BHvhr%2Byd4R%2BG4%2BDfhTwB8O9M8ILOJ18KafpVhDpolEwmD/ZkURbhKqyZ253qG6jNea/G79o79u34D/Bjxf8AHHxV%2Byh8JLrS/BnhfUNd1K20/wCOuqNPNBaW0lxIkYfwwqlysZChmUZIyQOa6j/hOP8AgoX/ANGv/Bn/AMPxq3/zL0AdB8Rfhb%2ByP8X/ABLpPjP4tfDr4ceKNY0Fg2h6t4i0iwvrnTiHDgwSzKzwneqt8hHzKD1Fdl/wnPgn/ocNK/8ABhH/APFV5b/wnH/BQv8A6Nf%2BDP8A4fjVv/mXo/4Tj/goX/0a/wDBn/w/Grf/ADL0Aeo/8Jz4J/6HDS//AAYR/wDxVHgw79DM6g7Jr67liJGNyPcyMrfQqQR7GvLv%2BE4/4KF/9Gv/AAZ/8Pxq3/zL1y/xd/aO/bt%2BDXhS08X%2BI/2UPhJc2954o0TQo47L466ozifVNVtdMgc7vDCjYs13GznOQisQGOFIB9HUV4z/AMJx/wAFC/8Ao1/4M/8Ah%2BNW/wDmXo/4Tj/goX/0a/8ABn/w/Grf/MvQB7NRXjP/AAnH/BQv/o1/4M/%2BH41b/wCZej/hOP8AgoX/ANGv/Bn/AMPxq3/zL0AezUV84%2BPv2jv27fh34r8EeENY/ZQ%2BEk1x488US6FpUlt8ddUKQTx6VqGpl5d3hgEJ5OnTKCoY73QYwSy9R/wnH/BQv/o1/wCDP/h%2BNW/%2BZegD2aivGf8AhOP%2BChf/AEa/8Gf/AA/Grf8AzL0f8Jx/wUL/AOjX/gz/AOH41b/5l6APZqK8Z/4Tj/goX/0a/wDBn/w/Grf/ADL1y%2BrftHft26P8Z9A%2BB1x%2Byh8JG1TxF4X1fXbO5T466p5EcGnXOm28yOT4Y3B2bVICoCkEJJkqQoYA%2BjqK8Z/4Tj/goX/0a/8ABn/w/Grf/MvR/wAJx/wUL/6Nf%2BDP/h%2BNW/8AmXoA9morxn/hOP8AgoX/ANGv/Bn/AMPxq3/zL0f8Jx/wUL/6Nf8Agz/4fjVv/mXoA9mor5x0n9o79u3WPjPr/wADrf8AZQ%2BEi6p4d8L6Rrt5cv8AHXVPIkg1G51K3hRCPDG4uraXOWBUAB48FiWC9R/wnH/BQv8A6Nf%2BDP8A4fjVv/mXoA9morxn/hOP%2BChf/Rr/AMGf/D8at/8AMvR/wnH/AAUL/wCjX/gz/wCH41b/AOZegD2aivGf%2BE4/4KF/9Gv/AAZ/8Pxq3/zL1y/gH9o79u34ieK/G/hDR/2UPhJDceA/FEWharJc/HXVAk88mlafqYeLb4YJKeTqMKksFO9HGMAMwB9HUV4z/wAJx/wUL/6Nf%2BDP/h%2BNW/8AmXo/4Tj/AIKF/wDRr/wZ/wDD8at/8y9AHs1eM/sv/wDJb/2jv%2ByzWP8A6hXhej/hOP8AgoX/ANGv/Bn/AMPxq3/zL1b/AGVvhz8afB%2BsfFDx38dNA8L6Tqnj74hRa5Z6V4T8S3OrW9raxaDo%2BmKr3FxZWbNI0mnSuVEW0LIg3Mc4APW6KKKACiiigAooooAKKKKACiiigAooooAKKKKACiiigAooooAKKKKACiiigAr5X/ae/a0%2BLnww%2BMfizWvAPh3wfJ4Y%2BD/h/wAP3vjU61pFxNquqW%2Br38qXMFhcR3EaWXkW1nHcZkinFzIUjIh8vzT9UV4z8Z/2Ifhx8bvikfiZrnjnxVpcWo2ukWvi/wANaNdWqad4pg0u9kvbGK%2BWW3kmCxzTS5%2BzywGWOQxTGWMKgAPZqKKKACiiigD5j8OftK/EyH9v/wAUfB/4jax4e8J%2BG18QWmieDItR%2BEWspdeMYBoEGo4g8RtdrpzSx3dzqAFoIXk8u0mAUFmkX6cryvxZ%2By1B4/8AjJpHxT8e/G/xrq%2BleHtdj1rQPAFwdMi0ax1CO3eCOcNDZJey7PMkkVJrqSMSPu2fIgX1SgAooooA8X/4KC/F344fs/fsj%2BNPj18Ar3wpHrHgnQrvXLqDxhotzfW13aWttLM9uiW11bMkrsiKJC5VAWJR%2BBXn/jz9rT4ueC/jx4t1Pwp4d8IRfDzwh8Y/CPw%2B8ZWc2kXB1vVdV12DRUj1CG7S4WGOOD%2B3NJjMUlvK8iQz4lj2oK9h/ax/Zxsv2tPgRr37PutfFXxT4R0nxPZS2OuX/hBdO%2B13NlLE8U1tuv7S6jRHV%2BWRFkBUbXXnPFwfsA%2BDp/iLZ/EXxV8cfH2usdZ0nXPE2jahLpUVj4n1zTEjSx1a9jtrCJluIhBaYW2aCBjY2xeJjHkgHvdFFFABXi/7ZPxd%2BOHwStfAPjH4WXvhT%2BxtQ%2BJnhzw94vsfEGi3NzdXNrqus2Omg2csN1CltJGtzLJvkSdSURdnJNe0V5V%2B1d%2By2/7VXhvQvC8/x98b%2BBrfQvElhrqN4Lh0dnu72xvILyzaU6lp94NsVxbxuFjCBuVk3qdoAPOP2ef2lfiZrf7VXi34I/FDV/D3hPTofFOt2/gnwlJ8ItZ0y5162hdJTf2%2BtXF39g1B2Mk0ssVtAX5LsVwxP05Xkuk/soh/jJovxl%2BI/wC0B478azeF7u8u/CeheIRpMNho91c28lrJcRLYafbSyv8AZ5p4V8%2BSVUWd9oBII9aoAKKKKAPD/wBu74ufHj9n74Nav8dfhR4x8C2On%2BFtFuby90XxZ4Zvb%2B58Q3uUWz0yzktr2D7PNcSkW6N5V0zSzxBYWPyt5/8ABH9r74z658S/BX9reDPCWkfDTxv8T/FHw28K%2BGtO0uaPV9Ev9Ah1bfPPci4a3mgkbw/qaLDHbxGNWtj5kmWA9P8A2lf2QYP2kvHngj4gTftA%2BO/CFz4Bu7m90Wx8MRaNPZyXsqCNbyaDU9OvEeeGPzFhkAUxieUj5myKvgP9hr4e%2BA/jLb/F2H4i%2BLtSg07XdT17RPCGpXNl/ZOla3qMbx6hqkCRWqT%2BfOJ7ssrzPCjX1yY4o/M4APa6KKKACvl/9rn48ftL/Bb4iaf4U0qHwB410fxzDrVtovw5i8H30msJa2mh3V3Jf3E4vXiurYXUVvbSQi1iB%2B3woJjIyJJ9QV4dN%2BxNcR/tH%2BK/2mtE/ar%2BJenav4t02HTrnS4YPD89pp9nDA0cNtZtc6TLc28Syu91sWba87l3Dg7aAGfsIftB%2BN/j38Pby6%2BK/j7Rr7xdpws21/w3ZfC7V/CN5oDz2yyiC5stXup7hwW3%2BXcAJHIqHaG2k17pXm/wO/Zu074M%2BJ/EnxD1j4peKfHHirxXFY2%2BseJ/FzWC3L2lmJvstqkWn2trbRxRtc3LjbCGZriQszZGPSKACiiigD45/wCCgn7cfxU/Yw8c/wBp65ougeMfCL6NqOt2/hWX4c6nZS26abo19qSSf8JFNdPpk939r00bLFYEuhHMsoG2FpG9e/Zo%2BLvxz1b4qeN/2ev2jrnwpqHifwjpOh61HrXgrSLmwsbmx1QXkaRGC5ubl1liuNOu1L%2BbiRDE2yMkqK3x1/YS8EftOa1dWvx/%2BLfjXxR4LuZLiRfhleSabDosUk1jNZM2%2B3so76QCO4mYJLdOgd9235EC9P8As%2BfszaR8A7zXvEV38UPFnjjxH4kNnHq3irxrcWb30ttaRGK1tR9jtreFYog8rDEe9nnld2dnJoA9KooooAK%2BI/2p/wBsr9rP4N/GrxB8KPB3hvw5411Ow0W413wwE%2BB/iCOTRQNR0y1Qwt9uceJpBY6pced/ZflPC0JWURiYR19uV4fr37Fup%2BJfHp%2BJ2tftc/FGbW9PgvIvBt4U0ADwqt1NDJP9kjGk7J2aOBbfderdMsTOFKu7OQDqv2WPiw/xk%2BEcHiy9%2BJmjeKr%2BHUbqy1S%2B0bwZfeHRbXEUrK1rNpuoXE91ZzxjCvHM4fPzbVDAV6NXDfAP4C%2BHvgB4Z1PRtK8U634g1HX9euNb8SeJPEc0DXuq38wRGnlFvFDAmI4oYlSGKONUiQBRgk9zQAUUUUAFFFFABRRRQAUUUUAUfFHiGw8JeGtR8V6qHNrpljNd3IiXLeXGhdsDucKa%2Bc/2Jv2k/jX4/wDFOj%2BDPjZ4e8GWY8dfC2y%2BI3hmHwZpVxaDTI7y4Ju9PuzNcSi7mje5tn%2B2IIBO0sxMEe0F/pa7tLW/tZbG9t0mhmjaOaKVQyupGCpB4II4xXkP7M37FfgL9mDVX1fQPiD4t8Sy23hix8M%2BHR4svbWYaBoVm8j2%2Bm2pt7eEtGpk%2BaWczXEgji8yZ/LXAB7FRRRQAVwv7UHjz4i/Cz9mj4ifE74P%2BFF17xb4c8C6vqnhbQ2sZroajqNvZyy21sYYGWWYSSoieXGwdt2FIJBruqzvFuiX/iXwxqHh/S/Feo6Fc3tpJDb61pCwNdWLspAmiFxFLEXU8gSRumR8ysMggHl37FPxan%2BKHwzvrLVviF4f1nU/Duqrp15pmifDDU/Bz6GgtoJIrO40rVLme5hcI4kV28tHili2Jgb39irzz4D/ALO2k/A688S%2BI7n4ieJPGPiTxfqMN54i8U%2BK3sxd3Rht0t4IhHY21tbRRRxoAqxwpks7MWZmY%2Bh0AFFFFAHy5%2B1R%2B1j8UP2cPi944sviVo3hLxF8L7D9nfxf49ttCt9EuE1V20QaWs9tcXMly9vNFOt9OAgtkKhEy75YV2/7M/xf%2BPmqfFzxl%2Bzr%2B0s/hK88UeGPDHh7xLHqvgrSbmxspLLVn1K3W2MNzc3LmWG40i7BlEgWRHiby4zuWoPjH%2Bwr4d%2BOnx1b4y%2BPPjt45l02bwVqfhG%2B%2BHsMGi/2Jd6NqS232%2B0kL6a16RO1pA7OLoOpQhGRGZD0n7O/7Luh/s%2B32teI5/ih4t8b%2BIdftbCyv/E/ja5tJL02Fiki2dmPsltbx%2BVEZ7hwShkd7mV3d2bNAHp9FFFABXyJ8a/2l/2tvBmu/tAeBLfwr4M8WXvgLw/4U8SfDax0n4f6nfzrHqOq6lCEvLWK8eXUZ4F02OdTbC3JckKvyq1fXdeFy/sUeIYvjp42%2BP8AoX7aHxW0rVvG%2BkWOmXNjZWfhhrTTbayuLmezS2EuivJ%2B6N5dKDM8pdZyJPMKoVAOr/ZU%2BLc3xl%2BFI8Taj8TtG8U6ja6rc2OrXWj%2BCL/w2bO4ib5rWfTNRuJ7q0nRSu5JmDEMrbVVhXpNcJ8A/gHoHwB0LWbHT/FuueI9V8TeIJdc8T%2BJvEktu17qt/JDDB5sgtoYYIwsFvbwqkUUaKkKALnJPd0AFFFFAHxt%2B0t%2B13%2B0t%2Bzx8ZoPhtrKfDPxrfa3BBN4Rh07wte2kvgu81LxDpnh7SJtTle%2BmF1FO2rzgtEtnI4sbpYwy%2BYYvcf2Vfi/8SPiMPH/AMPvjEdEn8VfDTx43hrWdV8NadNZ2Gp%2BZpenatb3ENvNPPJb5tdUt0eNppcSRyYYgjHC23/BNXwk118Q38Q/tL/E7Wbf4k68dc1i31I6F5lnqUVxDPp9zbXUWlpdKbB7e3FpG80kUSwoGR%2Bc%2BsfAP4C6H8A/D2rabZeL9c8Sat4i16bWvE/ijxK9sb/V76SOKHzphawQQLsggt4ESKKNFjgjULwSQDuqKKKAGXP2n7NJ9j2edsPlebnbuxxnHOM18QfFb9rn9tP4afETXPhtb23gPxnr3hi98NW%2BreOvBHwV1/Vo/DlvqzXj3thLpVnqU93czRw2VjdExTp%2B7uoWlgQGJpPt67hkuLWW3hupIHkjZVniCl4yRgMu4FcjqMgj1Br57%2BDH7AXiD4CfDa4%2BGnw7/bq%2BMUUd1qz6nNrN5ZeE59Qlu5XlkuZ5pn0I/aZJ3l3SSTiR8xpsKAYIB6z8BPiHZfFb4O%2BH/iFYfEDRvFSanp4kfX/D%2BkzWFpdyAlZClrPNNLbFXVkaGSR3jZWVjuUgdfXJfAv4L%2BEv2ffhfp3wp8FXN/cWVhLdXE19qtyJrq%2Bu7q5lurq6mcKoaWa4nmlfaqrukO1VXCjraACqPieHxJc%2BG9Qt/Bup2Nlq8llKul3mp2D3VtBcFCI5JYY5YmmjVsFkWSMsAQHUncL1ZvjHQb/xR4Wv/Dul%2BLdS0G5vLV4oNa0cQG6sXI4miFxFLEXU8gSRuhx8ysMigD4e%2BG/7dn7Wvxg%2BKet/BL4Wab8Pk8Z6ba67fSeM/Ffwu1rQ11TTNItdFlSxl0S8vk1DT5Xu/EOxJp5nj8qGS4SF1nQH7G%2BAXxa034%2BfAnwV8ddG02Wzs/GvhLTdetLOZ9zwRXlrHcLGxAGSokAJ9RXi2r/8EyPA%2Bta5ffEW7/aU%2BKafEDVkvLXWviTbXukQ6tf6ZdW1rbTaYUTTRZw2xSytGHkW0UqyQLKsocsx%2Bg/Bfg/w18PPB2k%2BAPBmkxafo%2Bh6ZBp%2Bk2EOdltbQxrHFGuecKiqo%2BlAGnRRRQBy/wAadR8caN8Lda1v4c%2BIbHS9WsLM3UN9qHg%2B98QIkcZDygadYzwXN5I0SuqRQyBy7LhXPyN8W/CX/goj8fvEnjTQ9T8b3HhHwJ4M1KedfEHji8%2BBniKa21i/h1%2B60hEuZVvo08MzyWtpa/uNUaSWB5VjfOwJX238TPBmu%2BPfCU3hzw38Utf8G3kksbxa/wCGYrF7uDawJVVv7a5gYMAVIeJuCcYOCPFbr/gnN4U1DwfcfDbVv2kPibd%2BGNc1Ca/8eaBNcaOIvGF3PeNdXE19Kumi4i80ssLR2ctrEIYkjVFG7cAfRNFFFABRRRQAUUUUAFFFFABRRRQAUUUUAFFFFABRRRQAUUUUAFFFFABRRRQAUUUUAFFFFABRRRQAUUUUAFFFFABRRRQAUUUUAFFFFABRRRQAUUUUAFFFFABRRRQAUUUUAFFFFABRRRQAUUUUAFFFFABRRRQAUUUUAFFFFABRRRQAUUUUAFFFFABRRRQAUUUUAFFFFABRRRQAUUUUAFFFFABRRRQAUUUUAFFFFABRRRQAUUUUAFFFFABRRRQAUUUUAFFFFABRRRQAUUUUAFFFFABRRRQAUUUUAFFFFABRRRQAUUUUAFFFFABRRRQAUUUUAFFFFAH/2Q%3D%3D\">"
      ]
     },
     "metadata": {},
     "output_type": "display_data"
    }
   ],
   "source": [
    "s.run(tf.global_variables_initializer())\n",
    "\n",
    "BATCH_SIZE = 512\n",
    "EPOCHS = 40\n",
    "\n",
    "# for logging the progress right here in Jupyter (for those who don't have TensorBoard)\n",
    "simpleTrainingCurves = matplotlib_utils.SimpleTrainingCurves(\"cross-entropy\", \"accuracy\")\n",
    "\n",
    "for epoch in range(EPOCHS):  # we finish an epoch when we've looked at all training samples\n",
    "    \n",
    "    batch_losses = []\n",
    "    for batch_start in range(0, X_train_flat.shape[0], BATCH_SIZE):  # data is already shuffled\n",
    "        _, batch_loss = s.run([step, loss], {input_X: X_train_flat[batch_start:batch_start+BATCH_SIZE], \n",
    "                                             input_y: y_train_oh[batch_start:batch_start+BATCH_SIZE]})\n",
    "        # collect batch losses, this is almost free as we need a forward pass for backprop anyway\n",
    "        batch_losses.append(batch_loss)\n",
    "    train_loss = np.mean(batch_losses)\n",
    "    val_loss = s.run(loss, {input_X: X_val_flat, input_y: y_val_oh})  # this part is usually small\n",
    "    train_accuracy = accuracy_score(y_train, s.run(classes, {input_X: X_train_flat}))  # this is slow and usually skipped\n",
    "    valid_accuracy = accuracy_score(y_val, s.run(classes, {input_X: X_val_flat}))  \n",
    "    simpleTrainingCurves.add(train_loss, val_loss, train_accuracy, valid_accuracy)"
   ]
  },
  {
   "cell_type": "markdown",
   "metadata": {},
   "source": [
    "# Submit a linear model"
   ]
  },
  {
   "cell_type": "code",
   "execution_count": 14,
   "metadata": {
    "collapsed": true
   },
   "outputs": [],
   "source": [
    "## GRADED PART, DO NOT CHANGE!\n",
    "# Testing shapes \n",
    "grader.set_answer(\"9XaAS\", grading_utils.get_tensors_shapes_string([W, b, input_X, input_y, logits, probas, classes]))\n",
    "# Validation loss\n",
    "grader.set_answer(\"vmogZ\", s.run(loss, {input_X: X_val_flat, input_y: y_val_oh}))\n",
    "# Validation accuracy\n",
    "grader.set_answer(\"RMv95\", accuracy_score(y_val, s.run(classes, {input_X: X_val_flat})))"
   ]
  },
  {
   "cell_type": "code",
   "execution_count": 15,
   "metadata": {},
   "outputs": [
    {
     "ename": "TypeError",
     "evalue": "argument of type 'NoneType' is not iterable",
     "output_type": "error",
     "traceback": [
      "\u001b[0;31m---------------------------------------------------------------------------\u001b[0m",
      "\u001b[0;31mTypeError\u001b[0m                                 Traceback (most recent call last)",
      "\u001b[0;32m<ipython-input-15-c91d3e0cde89>\u001b[0m in \u001b[0;36m<module>\u001b[0;34m()\u001b[0m\n\u001b[1;32m      1\u001b[0m \u001b[0;31m# you can make submission with answers so far to check yourself at this stage\u001b[0m\u001b[0;34m\u001b[0m\u001b[0;34m\u001b[0m\u001b[0m\n\u001b[0;32m----> 2\u001b[0;31m \u001b[0mgrader\u001b[0m\u001b[0;34m.\u001b[0m\u001b[0msubmit\u001b[0m\u001b[0;34m(\u001b[0m\u001b[0mCOURSERA_EMAIL\u001b[0m\u001b[0;34m,\u001b[0m \u001b[0mCOURSERA_TOKEN\u001b[0m\u001b[0;34m)\u001b[0m\u001b[0;34m\u001b[0m\u001b[0m\n\u001b[0m",
      "\u001b[0;32m~/work/grading.py\u001b[0m in \u001b[0;36msubmit\u001b[0;34m(self, email, token)\u001b[0m\n\u001b[1;32m     32\u001b[0m         \u001b[0;32mif\u001b[0m \u001b[0mrequest\u001b[0m\u001b[0;34m.\u001b[0m\u001b[0mstatus_code\u001b[0m \u001b[0;34m==\u001b[0m \u001b[0;36m201\u001b[0m\u001b[0;34m:\u001b[0m\u001b[0;34m\u001b[0m\u001b[0m\n\u001b[1;32m     33\u001b[0m             \u001b[0mprint\u001b[0m\u001b[0;34m(\u001b[0m\u001b[0;34m'Submitted to Coursera platform. See results on assignment page!'\u001b[0m\u001b[0;34m)\u001b[0m\u001b[0;34m\u001b[0m\u001b[0m\n\u001b[0;32m---> 34\u001b[0;31m         \u001b[0;32melif\u001b[0m \u001b[0;34mu'details'\u001b[0m \u001b[0;32min\u001b[0m \u001b[0mresponse\u001b[0m \u001b[0;32mand\u001b[0m \u001b[0;34mu'learnerMessage'\u001b[0m \u001b[0;32min\u001b[0m \u001b[0mresponse\u001b[0m\u001b[0;34m[\u001b[0m\u001b[0;34mu'details'\u001b[0m\u001b[0;34m]\u001b[0m\u001b[0;34m:\u001b[0m\u001b[0;34m\u001b[0m\u001b[0m\n\u001b[0m\u001b[1;32m     35\u001b[0m             \u001b[0mprint\u001b[0m\u001b[0;34m(\u001b[0m\u001b[0mresponse\u001b[0m\u001b[0;34m[\u001b[0m\u001b[0;34mu'details'\u001b[0m\u001b[0;34m]\u001b[0m\u001b[0;34m[\u001b[0m\u001b[0;34mu'learnerMessage'\u001b[0m\u001b[0;34m]\u001b[0m\u001b[0;34m)\u001b[0m\u001b[0;34m\u001b[0m\u001b[0m\n\u001b[1;32m     36\u001b[0m         \u001b[0;32melse\u001b[0m\u001b[0;34m:\u001b[0m\u001b[0;34m\u001b[0m\u001b[0m\n",
      "\u001b[0;31mTypeError\u001b[0m: argument of type 'NoneType' is not iterable"
     ]
    }
   ],
   "source": [
    "# you can make submission with answers so far to check yourself at this stage\n",
    "grader.submit(COURSERA_EMAIL, COURSERA_TOKEN)"
   ]
  },
  {
   "cell_type": "markdown",
   "metadata": {},
   "source": [
    "# MLP with hidden layers"
   ]
  },
  {
   "cell_type": "markdown",
   "metadata": {},
   "source": [
    "Previously we've coded a dense layer with matrix multiplication by hand. \n",
    "But this is not convenient, you have to create a lot of variables and your code becomes a mess. \n",
    "In TensorFlow there's an easier way to make a dense layer:\n",
    "```python\n",
    "hidden1 = tf.layers.dense(inputs, 256, activation=tf.nn.sigmoid)\n",
    "```\n",
    "\n",
    "That will create all the necessary variables automatically.\n",
    "Here you can also choose an activation function (remember that we need it for a hidden layer!).\n",
    "\n",
    "Now define the MLP with 2 hidden layers and restart training with the cell above.\n",
    "\n",
    "You're aiming for ~0.97 validation accuracy here."
   ]
  },
  {
   "cell_type": "code",
   "execution_count": 30,
   "metadata": {
    "collapsed": true
   },
   "outputs": [],
   "source": [
    "# write the code here to get a new `step` operation and then run the cell with training loop above.\n",
    "# name your variables in the same way (e.g. logits, probas, classes, etc) for safety.\n",
    "### YOUR CODE HERE ###\n",
    "hidden1 = tf.layers.dense(input_X, 64, activation=tf.nn.sigmoid)\n",
    "hidden2 = tf.layers.dense(hidden1, 64, activation=tf.nn.sigmoid)\n",
    "logits = tf.layers.dense(hidden2, input_y.shape[1], activation=None)\n",
    "probas = tf.nn.softmax(logits)\n",
    "classes = tf.arg_max(probas, dimension=1)\n",
    "loss = tf.reduce_mean(tf.nn.softmax_cross_entropy_with_logits(labels=input_y, logits=logits))\n",
    "step = tf.train.AdamOptimizer().minimize(loss)"
   ]
  },
  {
   "cell_type": "markdown",
   "metadata": {},
   "source": [
    "# Submit the MLP with 2 hidden layers\n",
    "Run these cells after training the MLP with 2 hidden layers"
   ]
  },
  {
   "cell_type": "code",
   "execution_count": 33,
   "metadata": {
    "collapsed": true
   },
   "outputs": [],
   "source": [
    "## GRADED PART, DO NOT CHANGE!\n",
    "# Validation loss for MLP\n",
    "grader.set_answer(\"i8bgs\", s.run(loss, {input_X: X_val_flat, input_y: y_val_oh}))\n",
    "# Validation accuracy for MLP\n",
    "grader.set_answer(\"rE763\", accuracy_score(y_val, s.run(classes, {input_X: X_val_flat})))"
   ]
  },
  {
   "cell_type": "code",
   "execution_count": 34,
   "metadata": {},
   "outputs": [
    {
     "name": "stdout",
     "output_type": "stream",
     "text": [
      "Submitted to Coursera platform. See results on assignment page!\n"
     ]
    }
   ],
   "source": [
    "# you can make submission with answers so far to check yourself at this stage\n",
    "grader.submit(COURSERA_EMAIL, COURSERA_TOKEN)"
   ]
  }
 ],
 "metadata": {
  "kernelspec": {
   "display_name": "Python 3",
   "language": "python",
   "name": "python3"
  },
  "language_info": {
   "codemirror_mode": {
    "name": "ipython",
    "version": 3
   },
   "file_extension": ".py",
   "mimetype": "text/x-python",
   "name": "python",
   "nbconvert_exporter": "python",
   "pygments_lexer": "ipython3",
   "version": "3.6.2"
  }
 },
 "nbformat": 4,
 "nbformat_minor": 1
}
